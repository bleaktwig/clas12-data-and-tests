{
 "cells": [
  {
   "cell_type": "markdown",
   "metadata": {},
   "source": [
    "# Setup"
   ]
  },
  {
   "cell_type": "code",
   "execution_count": 1,
   "metadata": {},
   "outputs": [],
   "source": [
    "import numpy as np\n",
    "np.set_printoptions(formatter={'float': '{: 0.5f}'.format}, suppress = True)\n",
    "\n",
    "from scipy.interpolate import interpn\n",
    "from scipy.interpolate import RegularGridInterpolator\n",
    "\n",
    "from mpl_toolkits.mplot3d import Axes3D\n",
    "import matplotlib.pyplot as plt\n",
    "%matplotlib notebook\n",
    "\n",
    "MEASFILENAME      = \"measurements.txt\"\n",
    "MAGFIELDFILENAMES = [[\"r25s5\", \"r25s2_5\", \"r25s1_25\"], [\"r50s10\", \"r50s5\", \"r50s2_5\"], [\"r100s20\", \"r100s10\", \"r100s5\"]]\n",
    "\n",
    "for i in range(len(MAGFIELDFILENAMES)):\n",
    "    for j in range(len(MAGFIELDFILENAMES[i])):\n",
    "        MAGFIELDFILENAMES[i][j] = \"magfields/\" + MAGFIELDFILENAMES[i][j] + \".txt\""
   ]
  },
  {
   "cell_type": "code",
   "execution_count": 2,
   "metadata": {},
   "outputs": [],
   "source": [
    "# For some reason this commands needs to be read twice to actually work\n",
    "%matplotlib notebook"
   ]
  },
  {
   "cell_type": "markdown",
   "metadata": {},
   "source": [
    "# File reading"
   ]
  },
  {
   "cell_type": "code",
   "execution_count": 3,
   "metadata": {},
   "outputs": [],
   "source": [
    "# Reads a measurements file and returns an array of measurement locations and measured data\n",
    "def read_meas_file(filename):\n",
    "    Z = []\n",
    "    m = []\n",
    "    f = open(filename, \"r\")\n",
    "    for line in f:\n",
    "        meas = line.replace(\"\\n\", \"\").split(' ')\n",
    "        for i in range(len(meas)):\n",
    "            meas[i] = float(meas[i])\n",
    "        Z.append(meas[0])\n",
    "        m.append([meas[0], meas[1], meas[2], meas[3], meas[4], meas[5]])\n",
    "    f.close()\n",
    "    Z = np.array(Z)\n",
    "    for i in range(len(m)):\n",
    "        m[i] = np.array(m[i])\n",
    "    return (Z, m)\n",
    "\n",
    "# Reads a BField file and returns a dictionary containing a set of vectors representing the field\n",
    "def read_magfield_file(filename):\n",
    "    B = {}\n",
    "    f = open(filename, \"r\")\n",
    "    for line in f:\n",
    "        mag_meas = line.replace(\"\\n\", \"\").split(' ')\n",
    "        for i in range(len(mag_meas)):\n",
    "            mag_meas[i] = float(mag_meas[i])\n",
    "        B[(mag_meas[0], mag_meas[1], mag_meas[2])] = (mag_meas[3], mag_meas[4], mag_meas[5])\n",
    "    f.close()\n",
    "    return B"
   ]
  },
  {
   "cell_type": "markdown",
   "metadata": {},
   "source": [
    "# BField functions"
   ]
  },
  {
   "cell_type": "code",
   "execution_count": 28,
   "metadata": {},
   "outputs": [],
   "source": [
    "# Gets arrays of x, y, z, bx, by and bz in a specific plane on z0\n",
    "def get_b(B, z0):\n",
    "    b = ([], [], [], [], [], [])\n",
    "    for key in B:\n",
    "        if key[2] <= z0:\n",
    "            b[0].append(key[0])    # x\n",
    "            b[1].append(key[1])    # y\n",
    "            b[2].append(key[2])    # z\n",
    "            b[3].append(B[key][0]) # bx\n",
    "            b[4].append(B[key][1]) # by\n",
    "            b[5].append(B[key][2]) # bz\n",
    "    return b\n",
    "\n",
    "# Creates and returns an interpolator for the magnetic field (bx,by,bz) at a given z plane (z0)\n",
    "def get_z0_interpolator(B, z0):\n",
    "    (x, y, z, bx, by, bz) = get_b(B, z0)\n",
    "    \n",
    "    # pre-process x and y\n",
    "    grid_x = list(set(x))\n",
    "    grid_y = list(set(y))\n",
    "    grid_x.sort()\n",
    "    grid_y.sort()\n",
    "    grid_x = np.array(grid_x)\n",
    "    grid_y = np.array(grid_y)\n",
    "    \n",
    "    print(x)\n",
    "    print(grid_x)\n",
    "    \n",
    "    # pre-process bx, by and bz\n",
    "    grid_bx = []\n",
    "    grid_by = []\n",
    "    grid_bz = []\n",
    "\n",
    "    for i in range(len(grid_x)):\n",
    "        grid_bx.append([])\n",
    "        grid_by.append([])\n",
    "        grid_bz.append([])\n",
    "        for j in range(len(grid_y)):\n",
    "            grid_bx[i].append(bx[i*len(grid_x)+j])\n",
    "            grid_by[i].append(by[i*len(grid_x)+j])\n",
    "            grid_bz[i].append(bz[i*len(grid_x)+j])\n",
    "    grid_bx = np.array(grid_bx)\n",
    "    grid_by = np.array(grid_by)\n",
    "    grid_bz = np.array(grid_bz)\n",
    "    \n",
    "    # obtain and return the interpolator\n",
    "    bx_est = RegularGridInterpolator((grid_x, grid_y), grid_bx, method=\"linear\", bounds_error=True)\n",
    "    by_est = RegularGridInterpolator((grid_x, grid_y), grid_by, method=\"linear\", bounds_error=True)\n",
    "    bz_est = RegularGridInterpolator((grid_x, grid_y), grid_bz, method=\"linear\", bounds_error=True)\n",
    "    \n",
    "    return (bx_est, by_est, bz_est)\n",
    "\n",
    "# Plots a sample of the magnetic field at a cross section z0\n",
    "def plot_b(B, z0):\n",
    "    (x, y, z, bx, by, bz) = get_b(B, z0)\n",
    "\n",
    "    fig = plt.figure()\n",
    "    ax = fig.gca(projection='3d')\n",
    "    ax.quiver(x, y, z, bx, by, bz, length=3, normalize=True)\n",
    "\n",
    "    plt.show()"
   ]
  },
  {
   "cell_type": "markdown",
   "metadata": {},
   "source": [
    "# Transport"
   ]
  },
  {
   "cell_type": "code",
   "execution_count": 29,
   "metadata": {},
   "outputs": [],
   "source": [
    "# default step size\n",
    "step_size = 0.2\n",
    "\n",
    "def get_A(tx, ty, bx, by, bz):\n",
    "    c = np.sqrt(1 + tx*tx + ty*ty)\n",
    "    return [c * ( ty * (tx*bx + bz) - (1 + tx*tx) * by), c * (-tx * (ty*by + bz) + (1 + ty*ty) * bx)]\n",
    "\n",
    "def get_dA(tx, ty, bx, by, bz):\n",
    "    c2 = 1 + tx*tx + ty*ty\n",
    "    c  = np.sqrt(c2)\n",
    "    Ax = c * ( ty * (tx*bx + bz) - (1 + tx*tx) * by)\n",
    "    Ay = c * (-tx * (ty*by + bz) + (1 + ty*ty) * bx)\n",
    "    \n",
    "    dA = []\n",
    "    dA.append(tx*Ax/c2 + c * ( ty*bx - 2*tx*by)) # dAx/dtx\n",
    "    dA.append(ty*Ax/c2 + c * ( tx*bx + bz))      # dAx/dty\n",
    "    dA.append(tx*Ay/c2 + c * (-ty*by - bz))      # dAy/dtx\n",
    "    dA.append(ty*Ay/c2 + c * (-tx*by + 2*ty*bx)) # dAy/dty\n",
    "    \n",
    "    return dA\n",
    "\n",
    "def k_transport(i, f, ivec, icov, v, Z, B, prnt): # returns fvec and fcov\n",
    "    # temporary state vector to improve legibility\n",
    "    z  = ivec[0]\n",
    "    x  = ivec[1]\n",
    "    y  = ivec[2]\n",
    "    tx = ivec[3]\n",
    "    ty = ivec[4]\n",
    "    Q  = ivec[5]\n",
    "\n",
    "    fcov = np.copy(icov)\n",
    "\n",
    "    # step size computation\n",
    "    n_steps = (int) (abs((Z[i] - Z[f]) / step_size) + 1)\n",
    "    s = np.sign(Z[f] - Z[i]) * step_size\n",
    "    \n",
    "    for j in range(n_steps):\n",
    "        if j == n_steps-1:\n",
    "            s = np.sign(Z[f] - Z[i]) * abs(z - Z[f])\n",
    "        \n",
    "        (bx_est, by_est, bz_est) = get_z0_interpolator(B, z)\n",
    "        print(x)\n",
    "        print(y)\n",
    "        (bx, by, bz) = (bx_est([x,y]), by_est([x,y]), bz_est([x,y]))\n",
    "        \n",
    "        A  = get_A(tx, ty, bx, by, bz)\n",
    "        dA = get_dA(tx, ty, bx, by, bz)\n",
    "        \n",
    "        # propagate the covariance matrix\n",
    "        dx_dtx  = s\n",
    "        dy_dtx  = 0.5*Q*v * s*s * dA[2]\n",
    "        dty_dtx = Q*v * s * dA[2]\n",
    "        \n",
    "        dx_dty  = 0.5*Q*v * s*s * dA[1]\n",
    "        dy_dty  = s;\n",
    "        dtx_dty = Q*v * s * dA[1]\n",
    "        \n",
    "        dx_dQ   = 0.5*v * s*s * A[0]\n",
    "        dtx_dQ  = v * s * A[0]\n",
    "        dy_dQ   = 0.5*v * s*s * A[1]\n",
    "        dty_dQ  = v * s * A[1];\n",
    "        \n",
    "        # Jacobian matrix\n",
    "        F = np.array(\n",
    "            [[1, 0,  dx_dtx,  dx_dty,  dx_dQ],\n",
    "             [0, 1,  dy_dtx,  dy_dty,  dy_dQ],\n",
    "             [0, 0,       1, dtx_dty, dtx_dQ],\n",
    "             [0, 0, dty_dtx,       1, dty_dQ],\n",
    "             [0, 0,       0,       0,      1]]\n",
    "        )\n",
    "        \n",
    "        # C = FCF^T\n",
    "        fcov = np.dot(np.dot(F, fcov), F.transpose())\n",
    "        \n",
    "        # Q process noise matrix estimate\n",
    "        p = abs(1./Q)\n",
    "        pz = p / np.sqrt(1 + tx*tx + ty*ty)\n",
    "        px = tx * pz\n",
    "        py = ty * pz\n",
    "        \n",
    "        t_ov_X0 = np.sign(Z[f] - Z[i]) * s / 14 # ArgonRadLen = 14\n",
    "        mass = 0.000510998\n",
    "        if Q > 0:\n",
    "            mass = 0.938272029\n",
    "        beta = p*p / np.sqrt(p*p + mass*mass)\n",
    "        cos_angle = abs((x*px + y*py + z*pz) / np.sqrt(x*x + y*y + z*z) * p)\n",
    "        path_len = t_ov_X0 / cos_angle\n",
    "        \n",
    "        sct_RMS = (0.0136 / (beta)) * np.sqrt(path_len) * (1 + 0.038*np.log(path_len)) # Highland-Lynch-Dahl formula\n",
    "        \n",
    "        cov_txtx = (1 + tx*tx) * (1 + tx*tx + ty*ty) * sct_RMS*sct_RMS\n",
    "        cov_txty = (1 + ty*ty) * (1 + tx*tx + ty*ty) * sct_RMS*sct_RMS\n",
    "        cov_tyty = tx*ty * (1 + tx*tx + ty*ty) * sct_RMS*sct_RMS\n",
    "        \n",
    "        if s > 0:\n",
    "            fcov[2,2] += cov_txtx\n",
    "            fcov[2,3] += cov_txty\n",
    "            fcov[3,2] += cov_txty\n",
    "            fcov[3,3] += cov_tyty\n",
    "        \n",
    "        # propagate the state vector\n",
    "        z += s\n",
    "        x += tx * s + 0.5 * Q*v * A[0] * s*s\n",
    "        y += ty * s + 0.5 * Q*v * A[1] * s*s\n",
    "        tx += Q * v * A[0] * s\n",
    "        ty += Q * v * A[1] * s\n",
    "        \n",
    "    fvec = np.array([z, x, y, tx, ty, Q])\n",
    "    if prnt >= 2:\n",
    "        print(\"  transport:  \", fvec)\n",
    "    if prnt >= 3:\n",
    "        print(\"    matrix %2d:\\n\" % f, fcov)\n",
    "    return (fvec, fcov)"
   ]
  },
  {
   "cell_type": "markdown",
   "metadata": {},
   "source": [
    "# Filter"
   ]
  },
  {
   "cell_type": "code",
   "execution_count": 30,
   "metadata": {},
   "outputs": [],
   "source": [
    "def getH(y, s, w, l):\n",
    "    h1 = -np.tan(np.radians(6*s))\n",
    "    return [1, h1 - w * (4/l) * (1 - y/(l/2))]\n",
    "\n",
    "def geth(x, y, s, w, l):\n",
    "    return x - np.tan(np.radians(6*s)) * y + w*(1 - y/(l/2)) * (1 - y/(l/2))\n",
    "\n",
    "def k_filter(k, ivec, icov, chi2, prnt): # returns fvec, fcov and chi2\n",
    "    # filter the covariance matrix\n",
    "    if abs(np.linalg.det(icov)) < 1.e-30:\n",
    "        print(\"error, initial covariance matrix is singular!\")\n",
    "        return\n",
    "    \n",
    "    K = np.zeros(5)\n",
    "    V = abs(m[k][2])\n",
    "    H = getH(ivec[2], m[k][3], m[k][4], m[k][5])\n",
    "    \n",
    "    # Sherman-Morrison formula\n",
    "    Hv   = np.array([[H[0]], [H[1]], [0], [0], [0]])\n",
    "    HvT  = np.transpose(Hv)\n",
    "    \n",
    "    div = V + np.dot(np.dot(HvT, icov), Hv)[0, 0]\n",
    "    res = np.dot(np.dot(np.dot(icov, Hv), HvT), icov)\n",
    "    res = np.true_divide(res, div)\n",
    "    \n",
    "    fcov = np.subtract(icov, res)\n",
    "    if abs(np.linalg.det(fcov)) < 1.e-30:\n",
    "        print(\"error, final covariance matrix is singular!\")\n",
    "        return\n",
    "\n",
    "    # filter the state vector\n",
    "    for j in range(5):\n",
    "        K[j] = (H[0] * fcov[j,0] + H[1] * fcov[j,1])/V\n",
    "        \n",
    "    h = geth(ivec[1], ivec[2], m[k][3], m[k][4], m[k][5])\n",
    "    chi2 += (m[k][1] - h) * (m[k][1] - h) / V\n",
    "    \n",
    "    fvec = np.copy(ivec)\n",
    "    for j in range(5):\n",
    "        fvec[j+1] += K[j] * (m[k][1] - h)\n",
    "    \n",
    "    if prnt >= 2:\n",
    "        print(\"  filter:     \", fvec)\n",
    "    if prnt >= 3:\n",
    "        print(\"    matrix f:\\n\", fcov)\n",
    "        print(\"    chi2: %3f\\n\" % chi2)\n",
    "        \n",
    "    return (fvec, fcov, chi2)"
   ]
  },
  {
   "cell_type": "markdown",
   "metadata": {},
   "source": [
    "### Kalman Filter"
   ]
  },
  {
   "cell_type": "code",
   "execution_count": 31,
   "metadata": {},
   "outputs": [],
   "source": [
    "def kfitter(I, s, S, Z, B, prnt):\n",
    "    K = len(Z) # total number of measurements\n",
    "    v = 0.002997924580 # speed of light\n",
    "    \n",
    "    # best last state vector, covariance matrix and fit's chi^2 fit probability found\n",
    "    sK_b = np.zeros(6)\n",
    "    SK_b = np.zeros((5,5))\n",
    "    b_chi2 = np.Inf\n",
    "    \n",
    "    # run the Kalman Filter\n",
    "    for i in range(I):\n",
    "        c_chi2 = 0\n",
    "        if i > 0:\n",
    "            (s[0], S[0]) = k_transport(K-1, 0, s[K-1], S[K-1], v, Z, B, prnt)\n",
    "        for k in range(1, K):\n",
    "            (s[k], S[k]) = k_transport(k-1, k, s[k-1], S[k-1], v, Z, B, prnt)\n",
    "            (s[k], S[k], c_chi2) = k_filter(k, s[k], S[k], c_chi2, prnt)\n",
    "        if np.isnan(c_chi2): # NOTE: IDK why this is happening\n",
    "            break\n",
    "        if c_chi2 >= b_chi2:\n",
    "            if prnt >= 1: print(\"iteration %2d : no improvement\" % i)\n",
    "            continue\n",
    "        if prnt >= 1:\n",
    "            print(\"iteration %2d :\" % i, s[K-1], \" (%.2f)\" % c_chi2)\n",
    "        if  abs(s[K-1][5] - sK_b[5]) < 5.e-4 and \\\n",
    "            abs(s[K-1][1] - sK_b[1]) < 1.e-4 and \\\n",
    "            abs(s[K-1][2] - sK_b[2]) < 1.e-4 and \\\n",
    "            abs(s[K-1][3] - sK_b[3]) < 1.e-6 and \\\n",
    "            abs(s[K-1][4] - sK_b[4]) < 1.e-6:\n",
    "            i = I\n",
    "        sK_b = s[K-1]\n",
    "        SK_b = S[K-1]\n",
    "        b_chi2 = c_chi2\n",
    "\n",
    "    if i == 1:\n",
    "        sK_b = s[len(s)-1]\n",
    "        SK_b = S[len(s)-1]\n",
    "    \n",
    "    return (sK_b, SK_b)"
   ]
  },
  {
   "cell_type": "markdown",
   "metadata": {},
   "source": [
    "### Get data from files"
   ]
  },
  {
   "cell_type": "code",
   "execution_count": 32,
   "metadata": {
    "scrolled": true
   },
   "outputs": [],
   "source": [
    "(Z, m) = read_meas_file(MEASFILENAME)\n",
    "B = read_magfield_file(MAGFIELDFILENAMES[1][0])"
   ]
  },
  {
   "cell_type": "markdown",
   "metadata": {},
   "source": [
    "### KFitter"
   ]
  },
  {
   "cell_type": "code",
   "execution_count": 33,
   "metadata": {
    "scrolled": false
   },
   "outputs": [
    {
     "name": "stdout",
     "output_type": "stream",
     "text": [
      "[-50.0, -50.0, -50.0, -50.0, -50.0, -50.0, -50.0, -50.0, -50.0, -50.0, -50.0, -40.0, -40.0, -40.0, -40.0, -40.0, -40.0, -40.0, -40.0, -40.0, -40.0, -40.0, -30.0, -30.0, -30.0, -30.0, -30.0, -30.0, -30.0, -30.0, -30.0, -30.0, -30.0, -20.0, -20.0, -20.0, -20.0, -20.0, -20.0, -20.0, -20.0, -20.0, -20.0, -20.0, -10.0, -10.0, -10.0, -10.0, -10.0, -10.0, -10.0, -10.0, -10.0, -10.0, -10.0, 0.0, 0.0, 0.0, 0.0, 0.0, 0.0, 0.0, 0.0, 0.0, 0.0, 0.0, 10.0, 10.0, 10.0, 10.0, 10.0, 10.0, 10.0, 10.0, 10.0, 10.0, 10.0, 20.0, 20.0, 20.0, 20.0, 20.0, 20.0, 20.0, 20.0, 20.0, 20.0, 20.0, 30.0, 30.0, 30.0, 30.0, 30.0, 30.0, 30.0, 30.0, 30.0, 30.0, 30.0, 40.0, 40.0, 40.0, 40.0, 40.0, 40.0, 40.0, 40.0, 40.0, 40.0, 40.0, 50.0, 50.0, 50.0, 50.0, 50.0, 50.0, 50.0, 50.0, 50.0, 50.0, 50.0]\n",
      "[-50.00000 -40.00000 -30.00000 -20.00000 -10.00000  0.00000  10.00000\n",
      "  20.00000  30.00000  40.00000  50.00000]\n",
      "12.834542\n",
      "18.629339\n",
      "[-50.0, -50.0, -50.0, -50.0, -50.0, -50.0, -50.0, -50.0, -50.0, -50.0, -50.0, -40.0, -40.0, -40.0, -40.0, -40.0, -40.0, -40.0, -40.0, -40.0, -40.0, -40.0, -30.0, -30.0, -30.0, -30.0, -30.0, -30.0, -30.0, -30.0, -30.0, -30.0, -30.0, -20.0, -20.0, -20.0, -20.0, -20.0, -20.0, -20.0, -20.0, -20.0, -20.0, -20.0, -10.0, -10.0, -10.0, -10.0, -10.0, -10.0, -10.0, -10.0, -10.0, -10.0, -10.0, 0.0, 0.0, 0.0, 0.0, 0.0, 0.0, 0.0, 0.0, 0.0, 0.0, 0.0, 10.0, 10.0, 10.0, 10.0, 10.0, 10.0, 10.0, 10.0, 10.0, 10.0, 10.0, 20.0, 20.0, 20.0, 20.0, 20.0, 20.0, 20.0, 20.0, 20.0, 20.0, 20.0, 30.0, 30.0, 30.0, 30.0, 30.0, 30.0, 30.0, 30.0, 30.0, 30.0, 30.0, 40.0, 40.0, 40.0, 40.0, 40.0, 40.0, 40.0, 40.0, 40.0, 40.0, 40.0, 50.0, 50.0, 50.0, 50.0, 50.0, 50.0, 50.0, 50.0, 50.0, 50.0, 50.0]\n",
      "[-50.00000 -40.00000 -30.00000 -20.00000 -10.00000  0.00000  10.00000\n",
      "  20.00000  30.00000  40.00000  50.00000]\n",
      "[ 12.84415]\n",
      "[ 18.64983]\n"
     ]
    },
    {
     "ename": "ValueError",
     "evalue": "The requested sample points xi have dimension 1, but this RegularGridInterpolator has dimension 2",
     "output_type": "error",
     "traceback": [
      "\u001b[0;31m---------------------------------------------------------------------------\u001b[0m",
      "\u001b[0;31mValueError\u001b[0m                                Traceback (most recent call last)",
      "\u001b[0;32m<ipython-input-33-0ad9b05f05c2>\u001b[0m in \u001b[0;36m<module>\u001b[0;34m\u001b[0m\n\u001b[1;32m     21\u001b[0m )\n\u001b[1;32m     22\u001b[0m \u001b[0;34m\u001b[0m\u001b[0m\n\u001b[0;32m---> 23\u001b[0;31m \u001b[0;34m(\u001b[0m\u001b[0msK_b\u001b[0m\u001b[0;34m,\u001b[0m \u001b[0mSK_b\u001b[0m\u001b[0;34m)\u001b[0m \u001b[0;34m=\u001b[0m \u001b[0mkfitter\u001b[0m\u001b[0;34m(\u001b[0m\u001b[0mI\u001b[0m\u001b[0;34m,\u001b[0m \u001b[0ms\u001b[0m\u001b[0;34m,\u001b[0m \u001b[0mS\u001b[0m\u001b[0;34m,\u001b[0m \u001b[0mZ\u001b[0m\u001b[0;34m,\u001b[0m \u001b[0mB\u001b[0m\u001b[0;34m,\u001b[0m \u001b[0mprnt\u001b[0m\u001b[0;34m)\u001b[0m\u001b[0;34m\u001b[0m\u001b[0;34m\u001b[0m\u001b[0m\n\u001b[0m",
      "\u001b[0;32m<ipython-input-31-4ed755be4428>\u001b[0m in \u001b[0;36mkfitter\u001b[0;34m(I, s, S, Z, B, prnt)\u001b[0m\n\u001b[1;32m     14\u001b[0m             \u001b[0;34m(\u001b[0m\u001b[0ms\u001b[0m\u001b[0;34m[\u001b[0m\u001b[0;36m0\u001b[0m\u001b[0;34m]\u001b[0m\u001b[0;34m,\u001b[0m \u001b[0mS\u001b[0m\u001b[0;34m[\u001b[0m\u001b[0;36m0\u001b[0m\u001b[0;34m]\u001b[0m\u001b[0;34m)\u001b[0m \u001b[0;34m=\u001b[0m \u001b[0mk_transport\u001b[0m\u001b[0;34m(\u001b[0m\u001b[0mK\u001b[0m\u001b[0;34m-\u001b[0m\u001b[0;36m1\u001b[0m\u001b[0;34m,\u001b[0m \u001b[0;36m0\u001b[0m\u001b[0;34m,\u001b[0m \u001b[0ms\u001b[0m\u001b[0;34m[\u001b[0m\u001b[0mK\u001b[0m\u001b[0;34m-\u001b[0m\u001b[0;36m1\u001b[0m\u001b[0;34m]\u001b[0m\u001b[0;34m,\u001b[0m \u001b[0mS\u001b[0m\u001b[0;34m[\u001b[0m\u001b[0mK\u001b[0m\u001b[0;34m-\u001b[0m\u001b[0;36m1\u001b[0m\u001b[0;34m]\u001b[0m\u001b[0;34m,\u001b[0m \u001b[0mv\u001b[0m\u001b[0;34m,\u001b[0m \u001b[0mZ\u001b[0m\u001b[0;34m,\u001b[0m \u001b[0mB\u001b[0m\u001b[0;34m,\u001b[0m \u001b[0mprnt\u001b[0m\u001b[0;34m)\u001b[0m\u001b[0;34m\u001b[0m\u001b[0;34m\u001b[0m\u001b[0m\n\u001b[1;32m     15\u001b[0m         \u001b[0;32mfor\u001b[0m \u001b[0mk\u001b[0m \u001b[0;32min\u001b[0m \u001b[0mrange\u001b[0m\u001b[0;34m(\u001b[0m\u001b[0;36m1\u001b[0m\u001b[0;34m,\u001b[0m \u001b[0mK\u001b[0m\u001b[0;34m)\u001b[0m\u001b[0;34m:\u001b[0m\u001b[0;34m\u001b[0m\u001b[0;34m\u001b[0m\u001b[0m\n\u001b[0;32m---> 16\u001b[0;31m             \u001b[0;34m(\u001b[0m\u001b[0ms\u001b[0m\u001b[0;34m[\u001b[0m\u001b[0mk\u001b[0m\u001b[0;34m]\u001b[0m\u001b[0;34m,\u001b[0m \u001b[0mS\u001b[0m\u001b[0;34m[\u001b[0m\u001b[0mk\u001b[0m\u001b[0;34m]\u001b[0m\u001b[0;34m)\u001b[0m \u001b[0;34m=\u001b[0m \u001b[0mk_transport\u001b[0m\u001b[0;34m(\u001b[0m\u001b[0mk\u001b[0m\u001b[0;34m-\u001b[0m\u001b[0;36m1\u001b[0m\u001b[0;34m,\u001b[0m \u001b[0mk\u001b[0m\u001b[0;34m,\u001b[0m \u001b[0ms\u001b[0m\u001b[0;34m[\u001b[0m\u001b[0mk\u001b[0m\u001b[0;34m-\u001b[0m\u001b[0;36m1\u001b[0m\u001b[0;34m]\u001b[0m\u001b[0;34m,\u001b[0m \u001b[0mS\u001b[0m\u001b[0;34m[\u001b[0m\u001b[0mk\u001b[0m\u001b[0;34m-\u001b[0m\u001b[0;36m1\u001b[0m\u001b[0;34m]\u001b[0m\u001b[0;34m,\u001b[0m \u001b[0mv\u001b[0m\u001b[0;34m,\u001b[0m \u001b[0mZ\u001b[0m\u001b[0;34m,\u001b[0m \u001b[0mB\u001b[0m\u001b[0;34m,\u001b[0m \u001b[0mprnt\u001b[0m\u001b[0;34m)\u001b[0m\u001b[0;34m\u001b[0m\u001b[0;34m\u001b[0m\u001b[0m\n\u001b[0m\u001b[1;32m     17\u001b[0m             \u001b[0;34m(\u001b[0m\u001b[0ms\u001b[0m\u001b[0;34m[\u001b[0m\u001b[0mk\u001b[0m\u001b[0;34m]\u001b[0m\u001b[0;34m,\u001b[0m \u001b[0mS\u001b[0m\u001b[0;34m[\u001b[0m\u001b[0mk\u001b[0m\u001b[0;34m]\u001b[0m\u001b[0;34m,\u001b[0m \u001b[0mc_chi2\u001b[0m\u001b[0;34m)\u001b[0m \u001b[0;34m=\u001b[0m \u001b[0mk_filter\u001b[0m\u001b[0;34m(\u001b[0m\u001b[0mk\u001b[0m\u001b[0;34m,\u001b[0m \u001b[0ms\u001b[0m\u001b[0;34m[\u001b[0m\u001b[0mk\u001b[0m\u001b[0;34m]\u001b[0m\u001b[0;34m,\u001b[0m \u001b[0mS\u001b[0m\u001b[0;34m[\u001b[0m\u001b[0mk\u001b[0m\u001b[0;34m]\u001b[0m\u001b[0;34m,\u001b[0m \u001b[0mc_chi2\u001b[0m\u001b[0;34m,\u001b[0m \u001b[0mprnt\u001b[0m\u001b[0;34m)\u001b[0m\u001b[0;34m\u001b[0m\u001b[0;34m\u001b[0m\u001b[0m\n\u001b[1;32m     18\u001b[0m         \u001b[0;32mif\u001b[0m \u001b[0mnp\u001b[0m\u001b[0;34m.\u001b[0m\u001b[0misnan\u001b[0m\u001b[0;34m(\u001b[0m\u001b[0mc_chi2\u001b[0m\u001b[0;34m)\u001b[0m\u001b[0;34m:\u001b[0m \u001b[0;31m# NOTE: IDK why this is happening\u001b[0m\u001b[0;34m\u001b[0m\u001b[0;34m\u001b[0m\u001b[0m\n",
      "\u001b[0;32m<ipython-input-29-05887b92bb38>\u001b[0m in \u001b[0;36mk_transport\u001b[0;34m(i, f, ivec, icov, v, Z, B, prnt)\u001b[0m\n\u001b[1;32m     42\u001b[0m         \u001b[0mprint\u001b[0m\u001b[0;34m(\u001b[0m\u001b[0mx\u001b[0m\u001b[0;34m)\u001b[0m\u001b[0;34m\u001b[0m\u001b[0;34m\u001b[0m\u001b[0m\n\u001b[1;32m     43\u001b[0m         \u001b[0mprint\u001b[0m\u001b[0;34m(\u001b[0m\u001b[0my\u001b[0m\u001b[0;34m)\u001b[0m\u001b[0;34m\u001b[0m\u001b[0;34m\u001b[0m\u001b[0m\n\u001b[0;32m---> 44\u001b[0;31m         \u001b[0;34m(\u001b[0m\u001b[0mbx\u001b[0m\u001b[0;34m,\u001b[0m \u001b[0mby\u001b[0m\u001b[0;34m,\u001b[0m \u001b[0mbz\u001b[0m\u001b[0;34m)\u001b[0m \u001b[0;34m=\u001b[0m \u001b[0;34m(\u001b[0m\u001b[0mbx_est\u001b[0m\u001b[0;34m(\u001b[0m\u001b[0;34m[\u001b[0m\u001b[0mx\u001b[0m\u001b[0;34m,\u001b[0m\u001b[0my\u001b[0m\u001b[0;34m]\u001b[0m\u001b[0;34m)\u001b[0m\u001b[0;34m,\u001b[0m \u001b[0mby_est\u001b[0m\u001b[0;34m(\u001b[0m\u001b[0;34m[\u001b[0m\u001b[0mx\u001b[0m\u001b[0;34m,\u001b[0m\u001b[0my\u001b[0m\u001b[0;34m]\u001b[0m\u001b[0;34m)\u001b[0m\u001b[0;34m,\u001b[0m \u001b[0mbz_est\u001b[0m\u001b[0;34m(\u001b[0m\u001b[0;34m[\u001b[0m\u001b[0mx\u001b[0m\u001b[0;34m,\u001b[0m\u001b[0my\u001b[0m\u001b[0;34m]\u001b[0m\u001b[0;34m)\u001b[0m\u001b[0;34m)\u001b[0m\u001b[0;34m\u001b[0m\u001b[0;34m\u001b[0m\u001b[0m\n\u001b[0m\u001b[1;32m     45\u001b[0m \u001b[0;34m\u001b[0m\u001b[0m\n\u001b[1;32m     46\u001b[0m         \u001b[0mA\u001b[0m  \u001b[0;34m=\u001b[0m \u001b[0mget_A\u001b[0m\u001b[0;34m(\u001b[0m\u001b[0mtx\u001b[0m\u001b[0;34m,\u001b[0m \u001b[0mty\u001b[0m\u001b[0;34m,\u001b[0m \u001b[0mbx\u001b[0m\u001b[0;34m,\u001b[0m \u001b[0mby\u001b[0m\u001b[0;34m,\u001b[0m \u001b[0mbz\u001b[0m\u001b[0;34m)\u001b[0m\u001b[0;34m\u001b[0m\u001b[0;34m\u001b[0m\u001b[0m\n",
      "\u001b[0;32m~/anaconda3/envs/RK4/lib/python3.7/site-packages/scipy/interpolate/interpolate.py\u001b[0m in \u001b[0;36m__call__\u001b[0;34m(self, xi, method)\u001b[0m\n\u001b[1;32m   2466\u001b[0m             raise ValueError(\"The requested sample points xi have dimension \"\n\u001b[1;32m   2467\u001b[0m                              \u001b[0;34m\"%d, but this RegularGridInterpolator has \"\u001b[0m\u001b[0;34m\u001b[0m\u001b[0;34m\u001b[0m\u001b[0m\n\u001b[0;32m-> 2468\u001b[0;31m                              \"dimension %d\" % (xi.shape[1], ndim))\n\u001b[0m\u001b[1;32m   2469\u001b[0m \u001b[0;34m\u001b[0m\u001b[0m\n\u001b[1;32m   2470\u001b[0m         \u001b[0mxi_shape\u001b[0m \u001b[0;34m=\u001b[0m \u001b[0mxi\u001b[0m\u001b[0;34m.\u001b[0m\u001b[0mshape\u001b[0m\u001b[0;34m\u001b[0m\u001b[0;34m\u001b[0m\u001b[0m\n",
      "\u001b[0;31mValueError\u001b[0m: The requested sample points xi have dimension 1, but this RegularGridInterpolator has dimension 2"
     ]
    }
   ],
   "source": [
    "# config\n",
    "prnt = 1 # how much info to print (from 0 to 3)\n",
    "I = 30 # number of iterations\n",
    "\n",
    "# state vector and covariance matrix arrays\n",
    "s = []\n",
    "S = []\n",
    "\n",
    "for i in range(len(Z)):\n",
    "    s.append(np.zeros(6))\n",
    "    S.append(np.zeros((5,5)))\n",
    "\n",
    "# initial state vector and covariance matrix\n",
    "s[0] = np.array([Z[0], 12.834542, 18.629339,  0.048048,  0.102449, -0.588641])\n",
    "S[0] = np.array(\n",
    "    [[27.809679,  0.941768, -0.109315, -0.004673,  0.009938],\n",
    "     [ 0.941768, 85.895073, -0.002793, -0.410291,  0.003917],\n",
    "     [-0.109315, -0.002793,  0.000481,  0.000020, -0.000130],\n",
    "     [-0.004673, -0.410291,  0.000020,  0.002811, -0.000046],\n",
    "     [ 0.009938,  0.003917, -0.000130, -0.000046,  0.000733]]\n",
    ")\n",
    "\n",
    "(sK_b, SK_b) = kfitter(I, s, S, Z, B, prnt)\n"
   ]
  },
  {
   "cell_type": "code",
   "execution_count": null,
   "metadata": {},
   "outputs": [],
   "source": []
  },
  {
   "cell_type": "code",
   "execution_count": null,
   "metadata": {},
   "outputs": [],
   "source": []
  },
  {
   "cell_type": "code",
   "execution_count": null,
   "metadata": {},
   "outputs": [],
   "source": []
  },
  {
   "cell_type": "code",
   "execution_count": null,
   "metadata": {},
   "outputs": [],
   "source": []
  },
  {
   "cell_type": "code",
   "execution_count": null,
   "metadata": {},
   "outputs": [],
   "source": []
  },
  {
   "cell_type": "code",
   "execution_count": null,
   "metadata": {},
   "outputs": [],
   "source": []
  },
  {
   "cell_type": "code",
   "execution_count": null,
   "metadata": {},
   "outputs": [],
   "source": []
  },
  {
   "cell_type": "code",
   "execution_count": null,
   "metadata": {},
   "outputs": [],
   "source": []
  },
  {
   "cell_type": "code",
   "execution_count": null,
   "metadata": {},
   "outputs": [],
   "source": []
  },
  {
   "cell_type": "code",
   "execution_count": null,
   "metadata": {},
   "outputs": [],
   "source": []
  },
  {
   "cell_type": "code",
   "execution_count": null,
   "metadata": {},
   "outputs": [],
   "source": []
  },
  {
   "cell_type": "code",
   "execution_count": null,
   "metadata": {},
   "outputs": [],
   "source": []
  },
  {
   "cell_type": "code",
   "execution_count": null,
   "metadata": {},
   "outputs": [],
   "source": []
  },
  {
   "cell_type": "code",
   "execution_count": null,
   "metadata": {},
   "outputs": [],
   "source": []
  }
 ],
 "metadata": {
  "kernelspec": {
   "display_name": "Python 3",
   "language": "python",
   "name": "python3"
  },
  "language_info": {
   "codemirror_mode": {
    "name": "ipython",
    "version": 3
   },
   "file_extension": ".py",
   "mimetype": "text/x-python",
   "name": "python",
   "nbconvert_exporter": "python",
   "pygments_lexer": "ipython3",
   "version": "3.7.3"
  }
 },
 "nbformat": 4,
 "nbformat_minor": 2
}
