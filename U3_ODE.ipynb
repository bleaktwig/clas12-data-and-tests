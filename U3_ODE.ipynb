{
 "cells": [
  {
   "cell_type": "markdown",
   "metadata": {},
   "source": [
    "<center>\n",
    "    <h1> ILI286 - Computación Científica II  </h1>\n",
    "    <h2> EDO - Aplicaciones Avanzadas </h2>\n",
    "    <h2> [[S]cientific [C]omputing [T]eam](#acknowledgements)</h2>\n",
    "    <h2> Version: 1.1</h2>\n",
    "</center>"
   ]
  },
  {
   "cell_type": "markdown",
   "metadata": {},
   "source": [
    "## Algunos algoritmos utilizados en este notebook han sido obtenidos del libro \"Lloyd N. Trefethen, Spectral Methods in MATLAB, SIAM, Philadelphia, 2000\" y traducidos a python."
   ]
  },
  {
   "cell_type": "markdown",
   "metadata": {},
   "source": [
    "# Tabla de Contenidos\n",
    "* [Introducción](#intro)\n",
    "* [Configuraciones](#config)\n",
    "* [Problemas de Valor Inicial](#IVP)\n",
    "    * [Algunos Solver Típicos](#solver)\n",
    "        * [Regiones de Estabilidad](#stab)\n",
    "        * [Convergencia](#conver)\n",
    "    * [Problemas de segundo orden y más dimensiones](#high)\n",
    "* [Problemas de Valor de Frontera](#BVP)\n",
    "    * [Diferencias Finitas](#DD)\n",
    "    * [Método de Disparo](#MD)\n",
    "* [Acknowledgements](#acknowledgements)"
   ]
  },
  {
   "cell_type": "markdown",
   "metadata": {},
   "source": [
    "<div id='intro' />\n",
    "# Introducción\n",
    "En este notebook estudiaremos métodos numéricos para la resolución de ecuaciones diferenciales ordinarias (EDO). Se verán problemas de valor inicial (IVP) y de valor de frontera (BVP), sus principales métodos de resolución y se analizarán estabilidad y convergencia para los primeros mencionados."
   ]
  },
  {
   "cell_type": "markdown",
   "metadata": {},
   "source": [
    "# Configuration"
   ]
  },
  {
   "cell_type": "code",
   "execution_count": 1,
   "metadata": {},
   "outputs": [],
   "source": [
    "%matplotlib inline\n",
    "import matplotlib as plt\n",
    "from matplotlib import pyplot\n",
    "import numpy as np\n",
    "from scipy.integrate import odeint\n",
    "from pylab import *\n",
    "from numpy import linalg as LA\n",
    "from matplotlib.legend_handler import HandlerLine2D\n",
    "from scipy.linalg import toeplitz\n",
    "from scipy.optimize import root\n",
    "\n",
    "# Global parameter that controls the figure's size\n",
    "L = 10"
   ]
  },
  {
   "cell_type": "markdown",
   "metadata": {},
   "source": [
    "# Definitions"
   ]
  },
  {
   "cell_type": "code",
   "execution_count": 2,
   "metadata": {},
   "outputs": [],
   "source": [
    "# Forward Euler Method\n",
    "def euler_ode(y,t,f,h):\n",
    "    return y+h*f(t,y)\n",
    "\n",
    "# Runge-Kutta of Second order\n",
    "def RK2_ode(y,t,f,h):\n",
    "    k1=y+h/2.0*f(t,y) #or euler_ode(y,t,f,h)\n",
    "    return y+h*f(t+h/2.0,k1)\n",
    "\n",
    "# Runge-Kutta of Fourth order\n",
    "def RK4_ode(y,t,f,h):\n",
    "    k1=f(t,y)\n",
    "    k2=f(t+h/2.0,y+(h/2.0)*k1)\n",
    "    k3=f(t+h/2.0,y+(h/2.0)*k2)\n",
    "    k4=f(t+h,y+h*k3)\n",
    "    return y+(h/6.0)*(k1+2.0*k2+2.0*k3+k4)\n",
    "\n",
    "# Adams-Bashforth of Second order\n",
    "def AB2_ode(y,t,f,h,y_prev):\n",
    "    return y+(h/2.0)*(3*f(t,y)-f(t-h,y_prev))\n",
    "\n",
    "# Adams-Bashforth-Moulton of Second order\n",
    "def ABM2_ode(y,t,f,h,y_prev):\n",
    "    y_pred=AB2_ode(y,t,f,h,y_prev)\n",
    "    return y+(h/2.0)*(f(t+h,y_pred)+f(t,y))\n",
    "\n",
    "# Adams-Bashforth of Fourth order\n",
    "def AB4_ode(y,t,f,h,y_m1,y_m2,y_m3):\n",
    "    return y+(h/24.0)*(55*f(t,y)-59*f(t-h,y_m1)+37*f(t-2*h,y_m2)-9*f(t-3*h,y_m3))\n",
    "\n",
    "# Adams-Bashforth-Moulton of Fourth order\n",
    "def ABM4_ode(y,t,f,h,y_m1,y_m2,y_m3):\n",
    "    y_pred=AB4_ode(y,t,f,h,y_m1,y_m2,y_m3)\n",
    "    return y+(h/24.0)*(9*f(t+h,y_pred)+19*f(t,y)-5*f(t-h,y_m1)+f(t-2*h,y_m2))"
   ]
  },
  {
   "cell_type": "markdown",
   "metadata": {},
   "source": [
    "# Evaluation"
   ]
  },
  {
   "cell_type": "code",
   "execution_count": 3,
   "metadata": {},
   "outputs": [],
   "source": [
    "# y0=3.0\n",
    "# time_test=0.5\n",
    "def my_f(t,y):\n",
    "    return np.array(-3*y+6*t+5)\n",
    "y_sol = lambda t: 2.*np.exp(-3.*t)+2.*t+1"
   ]
  },
  {
   "cell_type": "code",
   "execution_count": 9,
   "metadata": {},
   "outputs": [],
   "source": [
    "m = 0\n",
    "M = 4\n",
    "h = 0.1\n",
    "\n",
    "# Arrays for testing\n",
    "tl = np.arange(m, M, h)\n",
    "yl = np.zeros(tl.size)\n",
    "\n",
    "# Testing\n",
    "y_real  = y_sol(tl)\n",
    "y_euler = np.copy(yl)\n",
    "y_rk2   = np.copy(yl)\n",
    "y_rk4   = np.copy(yl)\n",
    "for i in range(0, len(tl)):\n",
    "    y_euler[i] = euler_ode(y_euler[i-1], tl[i-1], my_f, h)\n",
    "    y_rk2[i] = RK2_ode(y_rk2[i-1], tl[i-1], my_f, h)\n",
    "    y_rk4[i] = RK4_ode(y_rk4[i-1], tl[i-1], my_f, h)    \n",
    "\n",
    "y_ab2   = np.copy(yl)\n",
    "y_abm2  = np.copy(yl)\n",
    "y_ab4   = np.copy(yl)\n",
    "y_abm4  = np.copy(yl)\n",
    "for i in range(1, 4):\n",
    "    y_ab2[i] = RK2_ode(y_ab2[i-1], tl[i-1], my_f, h)\n",
    "    y_abm2[i] = RK2_ode(y_abm2[i-1], tl[i-1], my_f, h)\n",
    "    y_ab4[i] = RK4_ode(y_ab4[i-1], tl[i-1], my_f, h)\n",
    "    y_abm4[i] = RK4_ode(y_abm4[i-1], tl[i-1], my_f, h)    \n",
    "for i in range(4, len(tl)):\n",
    "    y_ab2[i] = AB2_ode(y_ab2[i-1], tl[i-1], my_f, h, y_ab2[i-2])\n",
    "    y_abm2[i] = ABM2_ode(y_abm2[i-1], tl[i-1], my_f, h, y_abm2[i-2])\n",
    "    y_ab4[i] = AB4_ode(y_ab4[i-1], tl[i-1], my_f, h, y_ab4[i-2], y_ab4[i-3], y_ab4[i-4])\n",
    "    y_abm4[i] = ABM4_ode(y_abm4[i-1], tl[i-1], my_f, h, y_abm4[i-2], y_abm4[i-3], y_abm4[i-4])\n"
   ]
  },
  {
   "cell_type": "code",
   "execution_count": 18,
   "metadata": {},
   "outputs": [
    {
     "name": "stdout",
     "output_type": "stream",
     "text": [
      "8.800001673560372\n",
      "8.800014916324765\n",
      "8.800012292547292\n",
      "8.799986839042273\n",
      "8.799993003915713\n",
      "8.800081228086794\n",
      "8.799991784568235\n"
     ]
    }
   ],
   "source": [
    "print(y_euler[-1])\n",
    "print(y_rk2[-1])\n",
    "print(y_rk4[-1])\n",
    "print(y_ab2[-1])\n",
    "print(y_abm2[-1])\n",
    "print(y_ab4[-1])\n",
    "print(y_abm4[-1])"
   ]
  },
  {
   "cell_type": "code",
   "execution_count": null,
   "metadata": {},
   "outputs": [],
   "source": []
  },
  {
   "cell_type": "markdown",
   "metadata": {},
   "source": [
    "# Convergence Order"
   ]
  },
  {
   "cell_type": "code",
   "execution_count": 25,
   "metadata": {},
   "outputs": [],
   "source": [
    "m = 0\n",
    "M = 10\n",
    "h_list = np.logspace(-5,0,6)\n",
    "e_list = []\n",
    "for h in h_list:\n",
    "    e_list.append([])\n",
    "    tl = np.arange(m, M, h)\n",
    "    yl = np.zeros(tl.size)\n",
    "\n",
    "    y_real  = y_sol(tl)\n",
    "    y_euler = np.copy(yl)\n",
    "    y_rk2   = np.copy(yl)\n",
    "    y_rk4   = np.copy(yl)\n",
    "    y_ab2   = np.copy(yl)\n",
    "    y_abm2  = np.copy(yl)\n",
    "    y_ab4   = np.copy(yl)\n",
    "    y_abm4  = np.copy(yl)\n",
    "    for i in range(7):\n",
    "        e_list[-1].append(0)\n",
    "\n",
    "    for i in range(1, len(tl)):\n",
    "        y_euler[i] = euler_ode(y_euler[i-1], tl[i-1], my_f, h)\n",
    "        y_rk2[i] = RK2_ode(y_rk2[i-1], tl[i-1], my_f, h)\n",
    "        y_rk4[i] = RK4_ode(y_rk4[i-1], tl[i-1], my_f, h)    \n",
    "    for i in range(1, 4):\n",
    "        y_ab2[i] = RK2_ode(y_ab2[i-1], tl[i-1], my_f, h)\n",
    "        y_abm2[i] = RK2_ode(y_abm2[i-1], tl[i-1], my_f, h)\n",
    "        y_ab4[i] = RK4_ode(y_ab4[i-1], tl[i-1], my_f, h)\n",
    "        y_abm4[i] = RK4_ode(y_abm4[i-1], tl[i-1], my_f, h)    \n",
    "    for i in range(4, len(tl)):\n",
    "        y_ab2[i] = AB2_ode(y_ab2[i-1], tl[i-1], my_f, h, y_ab2[i-2])\n",
    "        y_abm2[i] = ABM2_ode(y_abm2[i-1], tl[i-1], my_f, h, y_abm2[i-2])\n",
    "        y_ab4[i] = AB4_ode(y_ab4[i-1], tl[i-1], my_f, h, y_ab4[i-2], y_ab4[i-3], y_ab4[i-4])\n",
    "        y_abm4[i] = ABM4_ode(y_abm4[i-1], tl[i-1], my_f, h, y_abm4[i-2], y_abm4[i-3], y_abm4[i-4]) \n",
    "\n",
    "    e_list[-1][0] = np.abs(y_euler[-1] - y_real[-1])\n",
    "    e_list[-1][1] = np.abs(y_rk2[-1]   - y_real[-1])\n",
    "    e_list[-1][2] = np.abs(y_rk4[-1]   - y_real[-1])\n",
    "    e_list[-1][3] = np.abs(y_ab2[-1]   - y_real[-1])\n",
    "    e_list[-1][4] = np.abs(y_abm2[-1]  - y_real[-1])\n",
    "    e_list[-1][5] = np.abs(y_ab4[-1]   - y_real[-1])\n",
    "    e_list[-1][6] = np.abs(y_abm4[-1]  - y_real[-1])\n"
   ]
  },
  {
   "cell_type": "code",
   "execution_count": 26,
   "metadata": {},
   "outputs": [],
   "source": [
    "# Scatter plots arrays of equal size\n",
    "def scatter_plot(h, arrs, names):\n",
    "    fig, ax = plt.subplots()\n",
    "    \n",
    "    fig.set_size_inches((L,L))\n",
    "\n",
    "    for i in range(len(arrs)):\n",
    "        plt.scatter(h, arrs[i], label=names[i])\n",
    "        plt.plot(   h, arrs[i])\n",
    "\n",
    "    plt.xscale(\"log\")\n",
    "    plt.yscale(\"log\")\n",
    "    plt.xlabel(\"h\")\n",
    "    plt.ylabel(\"error\")\n",
    "    plt.legend()\n",
    "\n",
    "    ax.spines['top'].set_visible(False)\n",
    "    ax.spines['right'].set_visible(False)\n",
    "    ax.grid(linestyle='-', linewidth=0.25, alpha=0.5)\n",
    "\n",
    "    plt.tight_layout()\n",
    "    plt.show()\n",
    "    return"
   ]
  },
  {
   "cell_type": "code",
   "execution_count": 27,
   "metadata": {},
   "outputs": [
    {
     "data": {
      "image/png": "[encoded data removed]",
      "text/plain": [
       "<Figure size 720x720 with 1 Axes>"
      ]
     },
     "metadata": {
      "needs_background": "light"
     },
     "output_type": "display_data"
    }
   ],
   "source": [
    "names = [\"euler\", \"rk2\", \"rk4\", \"ab2\", \"abm2\", \"ab4\", \"abm4\"]\n",
    "scatter_plot(h_list, np.array(e_list).transpose(), names)"
   ]
  },
  {
   "cell_type": "code",
   "execution_count": null,
   "metadata": {},
   "outputs": [],
   "source": [
    "fig = pyplot.figure(figsize=(L,L))\n",
    "fig.clf()\n",
    "ax = fig.gca()\n",
    "ax.axis(\"equal\")\n",
    "ax.grid(True)\n",
    "ax.set_title(\"Convergence Analysis\")\n",
    "\n",
    "h_list = np.logspace(-5,-1,5)\n",
    "for h in h_list:\n",
    "    t_times = np.arange(0, time_test+h, h)\n",
    "\n",
    "    y_output = np.zeros(t_times.size)\n",
    "    y_output[0] = y0\n",
    "    for i in range(1,t_times.size):\n",
    "        y_output[i]=euler_ode(y_output[i-1],t_times[i-1],my_f,h)        \n",
    "    loglog(h,abs(y_output[-1]-y_sol(t_times[-1])),'b.',ms=20,label='Euler',alpha=.5)\n",
    "    \n",
    "    y_output = np.zeros(t_times.size)\n",
    "    y_output[0] = y0\n",
    "    for i in range(1,t_times.size):\n",
    "        y_output[i]=RK2_ode(y_output[i-1],t_times[i-1],my_f,h)\n",
    "    loglog(h,abs(y_output[-1]-y_sol(t_times[-1])),'rs',ms=20,label='RK2',alpha=.5)\n",
    "    \n",
    "    y_output = np.zeros(t_times.size)\n",
    "    y_output[0] = y0\n",
    "    for i in range(1,t_times.size):\n",
    "        y_output[i]=RK4_ode(y_output[i-1],t_times[i-1],my_f,h)\n",
    "    loglog(h,abs(y_output[-1]-y_sol(t_times[-1])),'gd',ms=20,label='RK4',alpha=.5)\n",
    "    \n",
    "    if h==h_list[0]:\n",
    "        plt.legend(numpoints=1, loc=\"lower right\")\n",
    "loglog(h_list,h_list,'k-')\n",
    "loglog(h_list,np.power(h_list,2.),'k-')\n",
    "loglog(h_list,np.power(h_list,4.),'k-')"
   ]
  },
  {
   "cell_type": "markdown",
   "metadata": {},
   "source": [
    "### Ejemplo en 1-D\n",
    "\n",
    "Resolviendo $\\dot{y}(t) = y(t)(1-y(t))$ para distintas condiciones iniciales $y_0$, tenemos:"
   ]
  },
  {
   "cell_type": "code",
   "execution_count": null,
   "metadata": {},
   "outputs": [],
   "source": [
    "# Logistic Equation\n",
    "def my_f_1D(t,y):\n",
    "    return np.array(y*(1-y))"
   ]
  },
  {
   "cell_type": "code",
   "execution_count": null,
   "metadata": {
    "scrolled": true
   },
   "outputs": [],
   "source": [
    "h=0.001\n",
    "t_times = np.arange(0, 4, h)\n",
    "fig = pyplot.figure(figsize=(L,L))\n",
    "fig.clf()\n",
    "ax = fig.gca()\n",
    "ax.axis(\"equal\")\n",
    "ax.grid(True)\n",
    "ax.set_title(\"Numerical Approximations and Direction Field\")\n",
    "ax.axis([0, 4, -2, 2])\n",
    "\n",
    "for y0 in np.arange(-1,5,0.1): \n",
    "    y_output = np.zeros(t_times.size)\n",
    "    y_output[0] = y0\n",
    "    for i in range(1,t_times.size):\n",
    "        #y_output[i]=euler_ode(y_output[i-1],t_times[i-1],my_f_1D,h)\n",
    "        #y_output[i]=RK2_ode(y_output[i-1],t_times[i-1],my_f_1D,h)\n",
    "        y_output[i]=RK4_ode(y_output[i-1],t_times[i-1],my_f_1D,h)\n",
    "    plot(t_times,y_output,'-')\n",
    "\n",
    "X,Y = meshgrid( np.arange(0,4,.2),arange(-2,2,.2) )\n",
    "theta = np.arctan(my_f_1D(0,Y))\n",
    "U = cos(theta)\n",
    "V = sin(theta)\n",
    "quiver(X,Y,U,V)"
   ]
  },
  {
   "cell_type": "markdown",
   "metadata": {},
   "source": [
    "<div id='stab' />\n",
    "## Regiones de Estabilidad\n",
    "\n",
    "Para analizar la estabilidad lineal de un método consideremos la ecuación diferencial $\\dot{y} = \\lambda y$, con $y(0)=1$, cuya solución es $y(t) = e^{\\lambda t}$.\n",
    "\n",
    "Para Euler tendríamos:\n",
    "\n",
    "\\begin{align*}\n",
    "    y_{i+1} &= y_i + \\lambda h y_i \\\\\n",
    "    y_{i+1} &= (1 + \\lambda h ) y_i \\\\\n",
    "    y_{i+1} &= (1 + \\lambda h )^{i+1} y_0 \n",
    "\\end{align*}\n",
    "\n",
    "Considerando la parte real de $\\lambda$ negativa y $h$ positivo, para recrear la solución se necesita que $\\left|1+\\lambda h \\right| <1$. Este dominio, se denomina la región de estabilidad del método. \n",
    "\n",
    "Del mismo modo, para los demás métodos tenemos:\n",
    "\n",
    "* RK2:\n",
    "$$ \\left|1+\\lambda h + \\dfrac{(\\lambda h)^2}{2!} \\right| <1 $$\n",
    "\n",
    "* RK4:\n",
    "$$ \\left| 1+\\lambda h + \\dfrac{(\\lambda h)^2}{2!} + \\dfrac{(\\lambda h)^3}{3!} + \\dfrac{(\\lambda h)^4}{4!} \\right| <1 $$"
   ]
  },
  {
   "cell_type": "code",
   "execution_count": null,
   "metadata": {},
   "outputs": [],
   "source": [
    "def zplot2(z, ax=pyplot.gca(), lw=1.5, line_color='k'):\n",
    "  ax.plot(np.real(z), np.imag(z), line_color, lw=lw)\n",
    "def runge_kutta_stability_regions():\n",
    "  z = np.exp(1j * np.pi * np.arange(201)/100.)\n",
    "  r = z-1\n",
    "  d = 1-1./z;\n",
    "  # Order 1\n",
    "  W1, W2, W3, W4 = [0], [0], [0], [0]\n",
    "  for zi in z[1:]:\n",
    "    W1.append( W1[-1]-(1.+W1[-1]-zi) )\n",
    "  for zi in z[1:]:\n",
    "    W2.append( W2[-1]-(1+W2[-1]+.5*W2[-1]**2-zi**2)/(1+W2[-1]) )\n",
    "  for zi in z[1:]:\n",
    "    num = (1+W4[-1]+.5*W4[-1]**2+W4[-1]**3/6+W4[-1]**4/24-zi**4)\n",
    "    den = (1+W4[-1]+W4[-1]**2/2+W4[-1]**3/6.)\n",
    "    W4.append( W4[-1] - num/den )\n",
    "  return W1, W2, W4\n",
    "W1,W2,W4=runge_kutta_stability_regions()"
   ]
  },
  {
   "cell_type": "code",
   "execution_count": null,
   "metadata": {},
   "outputs": [],
   "source": [
    "fig = pyplot.figure(figsize=(L,L))\n",
    "ax=fig.gca()\n",
    "zplot2(W1,ax,line_color='r')\n",
    "zplot2(W2,ax,line_color='g')\n",
    "zplot2(W4,ax,line_color='b')\n",
    "ax.axis(\"equal\")\n",
    "ax.axis([-5, 2, -3.5, 3.5])\n",
    "ax.grid(\"on\")\n",
    "ax.set_title(\"Stability Regions of some Runge-Kutta ODE solvers\")"
   ]
  },
  {
   "cell_type": "markdown",
   "metadata": {},
   "source": [
    "### Entonces, ¿cómo utilizamos la región de estabilidad?\n",
    "\n",
    "Lo importante de este análisis es notar que no podemos definir $h$ a priori. Dados un método y $\\lambda$ conocidos, debemos estudiar la región de estabilidad para determinar que valor de $h$ utilizar."
   ]
  },
  {
   "cell_type": "code",
   "execution_count": null,
   "metadata": {},
   "outputs": [],
   "source": [
    "y0=1.2 # 1.2, 2.0, 4.0\n",
    "h=0.5  # 0.5, 0.1\n",
    "T=10\n",
    "\n",
    "# How did I get this? Why do I need it?\n",
    "def my_f_1D_prime(y):\n",
    "    return np.array(1-2*y)\n",
    "\n",
    "# Choosing which solver to use\n",
    "solvers = ('euler','RK2','RK4')\n",
    "solver = solvers[2]\n",
    "\n",
    "t_times = np.arange(0, T+h, h)\n",
    "y_output = np.zeros(t_times.size)\n",
    "y_output[0] = y0\n",
    "\n",
    "for i in range(1,t_times.size):\n",
    "    if solver=='euler':\n",
    "        y_output[i]=euler_ode(y_output[i-1],t_times[i-1],my_f_1D,h)\n",
    "        c1,c2,c3='b','k','k'\n",
    "    elif solver=='RK2':\n",
    "        y_output[i]=RK2_ode(y_output[i-1],t_times[i-1],my_f_1D,h)\n",
    "        c1,c2,c3='k','b','k'\n",
    "    else:\n",
    "        y_output[i]=RK4_ode(y_output[i-1],t_times[i-1],my_f_1D,h)\n",
    "        c1,c2,c3='k','k','b'\n",
    "\n",
    "fig = pyplot.figure(figsize=(L,L/2))\n",
    "ax = fig.gca()\n",
    "ax.axis(\"equal\")\n",
    "ax.grid(True)\n",
    "ax.set_title(\"Numerical Approximation\")\n",
    "ax.axis([0, T, -0.5, 2])\n",
    "plot(t_times,y_output,'-')\n",
    "plot(t_times,y_output,'.k')\n",
    "\n",
    "fig = pyplot.figure(figsize=(L,L))\n",
    "ax=fig.gca()\n",
    "zplot2(W1,ax,line_color=c1)\n",
    "zplot2(W2,ax,line_color=c2)\n",
    "zplot2(W4,ax,line_color=c3)\n",
    "k_lambdah=h*my_f_1D_prime(y_output)\n",
    "plot(np.real(k_lambdah),np.imag(k_lambdah),'.r',ms=20)\n",
    "ax.axis(\"equal\")\n",
    "ax.axis([-5, 2, -3.5, 3.5])\n",
    "ax.grid(\"on\")\n",
    "ax.set_title(\"Stability Region and $k=\\lambda\\,h$\")\n",
    "\n",
    "# The next code is to plot in logscale unstable numerical simulations\n",
    "fig = pyplot.figure(figsize=(L,L))\n",
    "ax = fig.gca()\n",
    "y_all=h*my_f_1D_prime(y_output)\n",
    "y_pos=y_all>0\n",
    "y_neg=logical_not(y_pos)\n",
    "semilogy(t_times[y_pos],y_all[y_pos],'.r',ms=20)\n",
    "semilogy(t_times[y_neg],-y_all[y_neg],'.b',ms=20)\n",
    "#ax.axis([-5, 2, -3.5, 3.5])\n",
    "ax.grid(\"on\")\n",
    "ax.set_title(\"Stability Region and $k=\\lambda\\,h$\")"
   ]
  },
  {
   "cell_type": "markdown",
   "metadata": {},
   "source": [
    "<div id='conver' />\n",
    "## Convergencia\n",
    "\n",
    "¡Esto es muy importante! Estudiémoslo... \n",
    "\n",
    "Para hablar de convergencia, tenemos que tener en cuenta el orden de cada método. En palabras simples y resumidas podemos decir lo siguiente:\n",
    "\n",
    "* Euler es un método de primer orden $O(h)$, por lo que si $h$ se reduce a la mitad, el error también lo hace.\n",
    "* RK2 es un método de segundo orden $O(h^2)$, por lo que si $h$ se reduce a la mitad, el error se reduce a la cuarta parte.\n",
    "* RK4 es un método de cuarto orden $O(h^4)$, por lo que si $h$ se reduce a la mitad, el error se reduce 16 veces.\n",
    "\n",
    "Para ver esto, consideremos el siguiente problema:\n",
    "\n",
    "\\begin{align*}\n",
    "\\dot{y}(t)&=-3\\,y(t)+6\\,t+5\\\\\n",
    "y(0)&=3\n",
    "\\end{align*}\n",
    "\n",
    "cuya solución es $y(t)=2e^{-3t}+2t+1$."
   ]
  },
  {
   "cell_type": "code",
   "execution_count": null,
   "metadata": {},
   "outputs": [],
   "source": [
    "y0=3.0\n",
    "time_test=0.5\n",
    "def my_f(t,y):\n",
    "    return np.array(-3*y+6*t+5)\n",
    "y_sol = lambda t: 2.*np.exp(-3.*t)+2.*t+1"
   ]
  },
  {
   "cell_type": "code",
   "execution_count": null,
   "metadata": {},
   "outputs": [],
   "source": [
    "fig = pyplot.figure(figsize=(L,L))\n",
    "fig.clf()\n",
    "ax = fig.gca()\n",
    "ax.axis(\"equal\")\n",
    "ax.grid(True)\n",
    "ax.set_title(\"Convergence Analysis\")\n",
    "\n",
    "h_list = np.logspace(-5,-1,5)\n",
    "for h in h_list:\n",
    "    t_times = np.arange(0, time_test+h, h)\n",
    "    y_output = np.zeros(t_times.size)\n",
    "    y_output[0] = y0\n",
    "    for i in range(1,t_times.size):\n",
    "        y_output[i]=euler_ode(y_output[i-1],t_times[i-1],my_f,h)        \n",
    "    loglog(h,abs(y_output[-1]-y_sol(t_times[-1])),'b.',ms=20,label='Euler',alpha=.5)\n",
    "    y_output = np.zeros(t_times.size)\n",
    "    y_output[0] = y0\n",
    "    for i in range(1,t_times.size):\n",
    "        y_output[i]=RK2_ode(y_output[i-1],t_times[i-1],my_f,h)\n",
    "    loglog(h,abs(y_output[-1]-y_sol(t_times[-1])),'rs',ms=20,label='RK2',alpha=.5)\n",
    "    y_output = np.zeros(t_times.size)\n",
    "    y_output[0] = y0\n",
    "    for i in range(1,t_times.size):\n",
    "        y_output[i]=RK4_ode(y_output[i-1],t_times[i-1],my_f,h)\n",
    "    loglog(h,abs(y_output[-1]-y_sol(t_times[-1])),'gd',ms=20,label='RK4',alpha=.5)\n",
    "    if h==h_list[0]:\n",
    "        plt.legend(numpoints=1, loc=\"lower right\")\n",
    "loglog(h_list,h_list,'k-')\n",
    "loglog(h_list,np.power(h_list,2.),'k-')\n",
    "loglog(h_list,np.power(h_list,4.),'k-')"
   ]
  },
  {
   "cell_type": "markdown",
   "metadata": {},
   "source": [
    "<div id='high' />\n",
    "# Problemas de segundo orden y más dimensiones"
   ]
  },
  {
   "cell_type": "markdown",
   "metadata": {},
   "source": [
    "¿Por qué debemos estudiar problemas de dimensiones más altas?\n",
    "\n",
    "¡Porque son geniales!"
   ]
  },
  {
   "cell_type": "markdown",
   "metadata": {},
   "source": [
    "### Van der pool"
   ]
  },
  {
   "cell_type": "markdown",
   "metadata": {},
   "source": [
    "El ocsilador Van der Pol es un oscilador no conservativo con amortiguamiento no lineal. Su evolución en el tiempo sigue una ecuación diferencial de segundo orden: \n",
    "\n",
    "$$\\ddot{y}-\\mu (1-y^2) \\dot{y} + y = 0$$ con $y(0)=2\\ $   y   $\\dot{y}(0)=0$\n",
    "\n",
    "$\\mu$ es un parámetro escalar que indica la no linealidad y la fuerza del amortiguamiento."
   ]
  },
  {
   "cell_type": "markdown",
   "metadata": {},
   "source": [
    "$y_1(t)=y(t)$ <br>\n",
    "$y_2(t)=\\dot{y}(t)$ <br> \n",
    "$\\dot{y}_1=\\dot{y} = y_2$ <br>\n",
    "$\\dot{y}_2=\\ddot{y} = \\mu (1-y^2) \\dot{y} - y = \\mu (1-y_1^2) y_2 - y_1$ <br> "
   ]
  },
  {
   "cell_type": "code",
   "execution_count": null,
   "metadata": {},
   "outputs": [],
   "source": [
    "mu=10\n",
    "def my_vdp(t,y):\n",
    "    y1 = y[0]\n",
    "    y2 = y[1]\n",
    "    return np.array([y2, mu*(1-y1**2)*y2-y1])\n",
    "\n",
    "def my_vdp_eig_jacobian(t,y):\n",
    "    J=[[0,1],[-(2*mu*y[0]*y[1]+1), mu*(1-y[0]**2)]]\n",
    "    lambs,vs= LA.eig(J)\n",
    "    return lambs"
   ]
  },
  {
   "cell_type": "code",
   "execution_count": null,
   "metadata": {},
   "outputs": [],
   "source": [
    "y0=[2, 0]\n",
    "\n",
    "h=0.01\n",
    "\n",
    "T=200\n",
    "\n",
    "t_times = np.arange(0, T, h)\n",
    "y_output = np.zeros([t_times.size,2])\n",
    "y_output[0,:] = y0\n",
    "for i in range(1,t_times.size):\n",
    "    y_output[i,:]=euler_ode(y_output[i-1,:],t_times[i-1],my_vdp,h)\n",
    "    \n",
    "fig = pyplot.figure(figsize=(L,L))\n",
    "ax = fig.gca()\n",
    "ax.grid(True)\n",
    "ax.set_title(\"Numerical Approximation\")\n",
    "plot(t_times,y_output[:,0],'-')\n",
    "\n",
    "fig = pyplot.figure(figsize=(L,L))\n",
    "ax = fig.gca()\n",
    "ax.grid(True)\n",
    "ax.set_title(\"Phase Portrait\")\n",
    "plot(y_output[:,0],y_output[:,1],'-')\n",
    "plt.xlabel('$y=y_1$',fontsize=24);\n",
    "plt.ylabel('$\\dot{y}=y_2$',fontsize=24);"
   ]
  },
  {
   "cell_type": "markdown",
   "metadata": {},
   "source": [
    "### ¿Qué hay acerca de la región de estabilidad en sistemas dinámicos de EDO's?"
   ]
  },
  {
   "cell_type": "code",
   "execution_count": null,
   "metadata": {},
   "outputs": [],
   "source": [
    "y0=[2, 0]\n",
    "h=0.02\n",
    "T=40\n",
    "\n",
    "# Choosing which solver to use\n",
    "solvers = ('euler','RK2','RK4')\n",
    "solver = solvers[0]\n",
    "\n",
    "t_times = np.arange(0, T+h, h)\n",
    "y_output = np.zeros([2,t_times.size])\n",
    "y_output[:,0] = y0\n",
    "\n",
    "for i in range(1,t_times.size):\n",
    "    if solver=='euler':\n",
    "        y_output[:,i]=euler_ode(y_output[:,i-1],t_times[i-1],my_vdp,h)\n",
    "        c1='b'\n",
    "        c2='k'\n",
    "        c3='k'\n",
    "    elif solver=='RK2':\n",
    "        y_output[:,i]=RK2_ode(y_output[:,i-1],t_times[i-1],my_vdp,h)\n",
    "        c1='k'\n",
    "        c2='b'\n",
    "        c3='k'\n",
    "    else:\n",
    "        y_output[:,i]=RK4_ode(y_output[:,i-1],t_times[i-1],my_vdp,h)\n",
    "        c1='k'\n",
    "        c2='k'\n",
    "        c3='b'"
   ]
  },
  {
   "cell_type": "code",
   "execution_count": null,
   "metadata": {},
   "outputs": [],
   "source": [
    "fig = pyplot.figure(figsize=(L,L/2))\n",
    "ax = fig.gca()\n",
    "ax.axis(\"equal\")\n",
    "ax.grid(True)\n",
    "ax.set_title(\"Numerical Approximation\")\n",
    "ax.axis([0, T, -0.5, 2])\n",
    "plot(t_times,y_output[0,:],'-')\n",
    "plot(t_times,y_output[1,:],'r-')\n",
    "\n",
    "fig = pyplot.figure(figsize=(L,L))\n",
    "ax = fig.gca()\n",
    "ax.grid(True)\n",
    "ax.set_title(\"Phase Portrait\")\n",
    "plot(y_output[0,:],y_output[1,:],'-')\n",
    "plt.xlabel('$y=y_1$',fontsize=24);\n",
    "plt.ylabel('$\\dot{y}=y_2$',fontsize=24);\n",
    "\n",
    "fig = pyplot.figure(figsize=(L,L))\n",
    "ax=fig.gca()\n",
    "zplot2(W1,ax,line_color=c1)\n",
    "zplot2(W2,ax,line_color=c2)\n",
    "zplot2(W4,ax,line_color=c3)\n",
    "for i in range(1,t_times.size):\n",
    "    k_lambdah=h*my_vdp_eig_jacobian(t_times[i],y_output[:,i])\n",
    "    plot(np.real(k_lambdah[0]),np.imag(k_lambdah[0]),'.r',ms=10,alpha=.4)\n",
    "    plot(np.real(k_lambdah[1]),np.imag(k_lambdah[1]),'sm',ms=10,alpha=.4)\n",
    "ax.axis(\"equal\")\n",
    "ax.axis([-5, 2, -3.5, 3.5])\n",
    "ax.grid(\"on\")"
   ]
  },
  {
   "cell_type": "markdown",
   "metadata": {},
   "source": [
    "### Modelo Lotka-Volterra (ecuaciones predador-presa), es decir, lobos comiendo conejos y conejos escondiendo y comiendo pasto infinito."
   ]
  },
  {
   "cell_type": "markdown",
   "metadata": {},
   "source": [
    "Se definen $y1(t)$ como el número de conejos en el tiempo $t$ y $y2(t)$ como el número de lobos en el tiempo $t$. Todo esto está pasando en una isla, aunque estamos considerando la presencia de pasto infinito. Entonces, si no hay lobos, obtenemos $\\dot{y1}(t)=y1(t)$, en otras palabras, el número de conejos crece exponencialmente. Ahora, si no hubiesen conejos, obtenemos $\\dot{y2}(t)=-y2(t)$, debido a que la población de lobos decae exponencialmente. Pero, ¿qué pasa si tenemos ambas especies?\n",
    "\n",
    "\\begin{align*}\n",
    "\\dot{y1}(t)&=(1-y2(t)/\\mu_2)\\,y1(t)\\\\\n",
    "\\dot{y2}(t)&=-(1-y1(t)/\\mu_1)\\,y2(t)\\\\\n",
    "y1(0)&=400\\\\\n",
    "y2(0)&=100\n",
    "\\end{align*}\n",
    "\n",
    "donde $\\mu_1$ y $\\mu_2$ son constantes de normalización."
   ]
  },
  {
   "cell_type": "code",
   "execution_count": null,
   "metadata": {},
   "outputs": [],
   "source": [
    "LA.eig(np.array([[-2, 2,0],[1,-1,-1],[0,0,0]]))"
   ]
  },
  {
   "cell_type": "code",
   "execution_count": null,
   "metadata": {},
   "outputs": [],
   "source": [
    "mu1=300\n",
    "mu2=200\n",
    "def f_predprey(t,y):\n",
    "    y1 = y[0]\n",
    "    y2 = y[1]\n",
    "    return np.array([(1-y2/mu2)*y1, -(1-y1/mu1)*y2])\n",
    "\n",
    "def f_predprey_jacobian(t,y):\n",
    "    J=[[1-y[1]/mu2,-y[0]/mu2],[y[1]/mu1, -(1-y[0]/mu1)]]\n",
    "    lambs,vs= LA.eig(J)\n",
    "    return lambs"
   ]
  },
  {
   "cell_type": "code",
   "execution_count": null,
   "metadata": {},
   "outputs": [],
   "source": [
    "y0=[400, 100]\n",
    "h=0.03\n",
    "T=30\n",
    "\n",
    "# Choosing which solver to use\n",
    "solvers = ('euler','RK2','RK4')\n",
    "solver = solvers[2]\n",
    "\n",
    "t_times = np.arange(0, T+h, h)\n",
    "y_output = np.zeros([2,t_times.size])\n",
    "y_output[:,0] = y0\n",
    "\n",
    "for i in range(1,t_times.size):\n",
    "    if solver=='euler':\n",
    "        y_output[:,i]=euler_ode(y_output[:,i-1],t_times[i-1],f_predprey,h)\n",
    "        c1='b'\n",
    "        c2='k'\n",
    "        c3='k'\n",
    "    elif solver=='RK2':\n",
    "        y_output[:,i]=RK2_ode(y_output[:,i-1],t_times[i-1],f_predprey,h)\n",
    "        c1='k'\n",
    "        c2='b'\n",
    "        c3='k'\n",
    "    else:\n",
    "        y_output[:,i]=RK4_ode(y_output[:,i-1],t_times[i-1],f_predprey,h)\n",
    "        c1='k'\n",
    "        c2='k'\n",
    "        c3='b'"
   ]
  },
  {
   "cell_type": "code",
   "execution_count": null,
   "metadata": {},
   "outputs": [],
   "source": [
    "fig = pyplot.figure(figsize=(L,L/2))\n",
    "ax = fig.gca()\n",
    "ax.grid(True)\n",
    "ax.set_title(\"Numerical Approximation\")\n",
    "plot(t_times,y_output[0,:],'-')\n",
    "plot(t_times,y_output[1,:],'r-')\n",
    "ax.axis([0, T, 0, 600])\n",
    "\n",
    "fig = pyplot.figure(figsize=(L,L))\n",
    "ax = fig.gca()\n",
    "ax.grid(True)\n",
    "ax.set_title(\"Phase Portrait\")\n",
    "plot(y_output[0,:],y_output[1,:],'-')\n",
    "plt.xlabel('$y1$',fontsize=24);\n",
    "plt.ylabel('$y2$',fontsize=24);\n",
    "ax.axis([0, 800, 0, 600])\n",
    "\n",
    "fig = pyplot.figure(figsize=(L,L))\n",
    "ax=fig.gca()\n",
    "zplot2(W1,ax,line_color=c1)\n",
    "zplot2(W2,ax,line_color=c2)\n",
    "zplot2(W4,ax,line_color=c3)\n",
    "for i in range(1,t_times.size):\n",
    "    k_lambdah=h*my_vdp_eig_jacobian(t_times[i],y_output[:,i])\n",
    "    plot(np.real(k_lambdah[0]),np.imag(k_lambdah[0]),'.r',ms=10,alpha=.4)\n",
    "    plot(np.real(k_lambdah[1]),np.imag(k_lambdah[1]),'sm',ms=10,alpha=.4)\n",
    "ax.axis(\"equal\")\n",
    "ax.axis([-5, 2, -3.5, 3.5])\n",
    "ax.grid(\"on\")"
   ]
  },
  {
   "cell_type": "code",
   "execution_count": null,
   "metadata": {},
   "outputs": [],
   "source": [
    "def f_inclass(t,y):\n",
    "    y1 = y[0]\n",
    "    y2 = y[1]\n",
    "    return np.array([y2, -y1])\n",
    "\n",
    "y0=[1, 0]\n",
    "h=0.03\n",
    "T=100\n",
    "\n",
    "# Choosing which solver to use\n",
    "solvers = ('euler','RK2','RK4')\n",
    "solver = solvers[0]\n",
    "\n",
    "t_times = np.arange(0, T+h, h)\n",
    "y_output = np.zeros([2,t_times.size])\n",
    "y_output[:,0] = y0\n",
    "\n",
    "for i in range(1,t_times.size):\n",
    "    if solver=='euler':\n",
    "        y_output[:,i]=euler_ode(y_output[:,i-1],t_times[i-1],f_inclass,h)\n",
    "        c1='b'\n",
    "        c2='k'\n",
    "        c3='k'\n",
    "    elif solver=='RK2':\n",
    "        y_output[:,i]=RK2_ode(y_output[:,i-1],t_times[i-1],f_inclass,h)\n",
    "        c1='k'\n",
    "        c2='b'\n",
    "        c3='k'\n",
    "    else:\n",
    "        y_output[:,i]=RK4_ode(y_output[:,i-1],t_times[i-1],f_inclass,h)\n",
    "        c1='k'\n",
    "        c2='k'\n",
    "        c3='b'\n",
    "fig = pyplot.figure(figsize=(L,L/2))\n",
    "ax = fig.gca()\n",
    "ax.grid(True)\n",
    "ax.set_title(\"Numerical Approximation\")\n",
    "plot(t_times,y_output[0,:],'-')\n",
    "plot(t_times,y_output[1,:],'r-')\n",
    "ax.axis([0, T, -2, 2])\n",
    "\n",
    "fig = pyplot.figure(figsize=(L,L))\n",
    "ax = fig.gca()\n",
    "ax.grid(True)\n",
    "ax.set_title(\"Phase Portrait\")\n",
    "plot(y_output[0,:],y_output[1,:],'-')\n",
    "plt.xlabel('$y1$',fontsize=24);\n",
    "plt.ylabel('$y2$',fontsize=24);\n",
    "ax.axis([-2, 2, -2, 2])\n",
    "ax.axis(\"equal\")\n",
    "ax.grid(\"on\")"
   ]
  },
  {
   "cell_type": "code",
   "execution_count": null,
   "metadata": {},
   "outputs": [],
   "source": [
    "def f_inclass(t,y):\n",
    "    y1 = y[0]\n",
    "    return np.array([-y1])\n",
    "\n",
    "y0=[1, 0]\n",
    "h=0.1\n",
    "T=10\n",
    "\n",
    "# Choosing which solver to use\n",
    "solvers = ('euler','RK2','RK4')\n",
    "solver = solvers[0]\n",
    "\n",
    "t_times = np.arange(0, T+h, h)\n",
    "y_output = np.zeros([2,t_times.size])\n",
    "y_output[:,0] = y0\n",
    "\n",
    "for i in range(1,t_times.size):\n",
    "    if solver=='euler':\n",
    "        y_output[:,i]=euler_ode(y_output[:,i-1],t_times[i-1],f_inclass,h)\n",
    "        c1='b'\n",
    "        c2='k'\n",
    "        c3='k'\n",
    "    elif solver=='RK2':\n",
    "        y_output[:,i]=RK2_ode(y_output[:,i-1],t_times[i-1],f_inclass,h)\n",
    "        c1='k'\n",
    "        c2='b'\n",
    "        c3='k'\n",
    "    else:\n",
    "        y_output[:,i]=RK4_ode(y_output[:,i-1],t_times[i-1],f_inclass,h)\n",
    "        c1='k'\n",
    "        c2='k'\n",
    "        c3='b'\n",
    "fig = pyplot.figure(figsize=(L,L/2))\n",
    "ax = fig.gca()\n",
    "ax.grid(True)\n",
    "ax.set_title(\"Numerical Approximation\")\n",
    "plot(t_times,y_output[0,:],'-')\n",
    "ax.axis([0, T, -2, 2])\n",
    "ax.axis(\"equal\")\n",
    "ax.grid(\"on\")"
   ]
  },
  {
   "cell_type": "markdown",
   "metadata": {},
   "source": [
    "<div id='BVP' />\n",
    "# Problemas de Valor de Frontera"
   ]
  },
  {
   "cell_type": "markdown",
   "metadata": {},
   "source": [
    "Un problema de valor de frontera (BVP) corresponde a una ecuación diferencial ordinaria de la forma:\n",
    "\n",
    "$$ y''(x) = f(x,y(x),y'(x)) $$\n",
    "sujeta a condiciones de borde:\n",
    "\n",
    "$$ y(a) = y_a $$\n",
    "$$ y(b) = y_b $$\n",
    "\n",
    "Intentemos resolver $y''(x)=4y(x)$, con $y(0)=\\alpha$ y $y(1)=\\beta$."
   ]
  },
  {
   "cell_type": "markdown",
   "metadata": {},
   "source": [
    "<div id='DD' />\n",
    "## Diferencias Finitas\n",
    "\n",
    "Este método consiste en aproximar las derivadas de $y(x)$ mediante las denominadas diferencias finitas, para luego resolver un sistema de ecuaciones que encuentre la solución.\n",
    "\n",
    "Dentro de las más conocidas están:\n",
    "\n",
    "* Central Difference:\n",
    "$$ y'(x) = \\dfrac{y(x+h) - y(x-h)}{2h} + O(h^2)$$\n",
    "\n",
    "* Forward Difference:\n",
    "$$ y'(x) = \\dfrac{y(x+h) - y(x)}{h} + O(h)$$\n",
    "\n",
    "* Backward Difference:\n",
    "$$ y'(x) = \\dfrac{y(x) - y(x-h)}{h} + O(h)$$\n",
    "\n",
    "Y para aproximar la segunda derivada utilizamos:\n",
    "\\begin{align*}\n",
    "y''(x) &= \\dfrac{\\text{Forward Difference } - \\text{ Backward Difference}}{h} + O(h^2) \\\\\n",
    "y''(x) &= \\dfrac{\\dfrac{y(x+h) - y(x)}{h} - \\dfrac{y(x) - y(x-h)}{h}}{h} + O(h^2) \\\\\n",
    "y''(x) &= \\dfrac{y(x+h) - 2y(x) + y(x-h)}{h^2} + O(h^2) \\\\\n",
    "\\end{align*}"
   ]
  },
  {
   "cell_type": "code",
   "execution_count": null,
   "metadata": {},
   "outputs": [],
   "source": [
    "I=4\n",
    "h=1./I\n",
    "alpha=1.\n",
    "beta=3.\n",
    "delta=-(2.+4.*(h**2.))\n",
    "A=toeplitz(np.append(np.array([delta, 1.]), np.zeros(I-3)))\n",
    "b=np.append(-alpha, np.zeros(I-3))\n",
    "b=np.append(b,-beta)\n",
    "w=np.linalg.solve(A, b)\n",
    "w=np.append([alpha], w)\n",
    "w=np.append(w,[beta])\n",
    "\n",
    "fig = pyplot.figure(figsize=(L,L))\n",
    "fig.clf()\n",
    "ax = fig.gca()\n",
    "ax.grid(True)\n",
    "ax.set_title(\"FD\")\n",
    "t_FD = np.linspace(0,1,I+1)\n",
    "w_FD = w \n",
    "plot(t_FD,w_FD,'.',ms=20)\n",
    "ax.axis([0, 1, 0, 3])\n",
    "ax.grid(\"on\")"
   ]
  },
  {
   "cell_type": "markdown",
   "metadata": {},
   "source": [
    "<div id='MD' />\n",
    "## Método de Disparo\n",
    "\n",
    "Este método consiste en tratar el BVP como si fuera un IVP mediante las siguientes consideraciones:\n",
    "\n",
    "* Teniendo el BVP $ y''(x) = f(x,y(x),y'(x)) $,con $ y(a) = y_a $ y $ y(b) = y_b $.\n",
    "* Consideremos $x \\rightarrow t$ y $ \\ddot{y}(t) = f(x,y(x),\\dot{y}(x)) $,con $ y(t_0) = y_0 $ y $ \\dot{y}(t_0) = \\alpha $.\n",
    "* Y definamos la función $F(\\alpha) = y(t_n;\\alpha) - y_b$.\n",
    "\n",
    "Entonces solo basta con encontrar una raíz de $F(\\alpha)$ para que la solución de este IVP corresponda a la solución del BVP que en realidad estamos resolviendo."
   ]
  },
  {
   "cell_type": "code",
   "execution_count": null,
   "metadata": {},
   "outputs": [],
   "source": [
    "def my_f(t,y):\n",
    "    return np.array([y[1],4*y[0]])"
   ]
  },
  {
   "cell_type": "code",
   "execution_count": null,
   "metadata": {},
   "outputs": [],
   "source": [
    "alpha=-1.;\n",
    "\n",
    "y0=1\n",
    "T=1.0\n",
    "N=100\n",
    "h=T/(N-1.)\n",
    "\n",
    "t_times = np.linspace(0,T,num=N)\n",
    "y_output = np.zeros([t_times.size,2])\n",
    "y_output[0,:] = [y0,alpha]\n",
    "for i in range(1,t_times.size):\n",
    "    y_output[i,:]=euler_ode(y_output[i-1,:],t_times[i-1],my_f,h)\n",
    "fig = pyplot.figure(figsize=(L,L))\n",
    "ax = fig.gca()\n",
    "ax.grid(True)\n",
    "ax.set_title(\"Numerical Approximation\")\n",
    "plot(t_times,y_output[:,0],'rd',ms=12,alpha=0.5)\n",
    "plot(t_FD,w_FD,'.',ms=20,alpha=0.5)"
   ]
  },
  {
   "cell_type": "markdown",
   "metadata": {},
   "source": [
    "### Ahora hagámoslo automáticamente"
   ]
  },
  {
   "cell_type": "code",
   "execution_count": null,
   "metadata": {},
   "outputs": [],
   "source": [
    "N_grid = 100\n",
    "def func(alpha):\n",
    "    beta=3\n",
    "    t_times,y_output = my_solver(N_grid,alpha)\n",
    "    return y_output[-1,0]-beta\n",
    "\n",
    "def my_solver(N,alpha):\n",
    "    y0=1.\n",
    "    T=1.0\n",
    "    h=T/(N-1.)\n",
    "    t_times = np.linspace(0,T,num=N)\n",
    "    y_output = np.zeros([t_times.size,2])\n",
    "    y_output[0,:] = [y0,alpha]\n",
    "    for i in range(1,t_times.size):\n",
    "        y_output[i,:]=RK4_ode(y_output[i-1,:],t_times[i-1],my_f,h)\n",
    "    return (t_times,y_output)"
   ]
  },
  {
   "cell_type": "code",
   "execution_count": null,
   "metadata": {},
   "outputs": [],
   "source": [
    "alpha = root(func, 0.)\n",
    "t_times,y_output = my_solver(N_grid,alpha.x)\n",
    "fig = pyplot.figure(figsize=(L,L))\n",
    "ax = fig.gca()\n",
    "ax.grid(True)\n",
    "ax.set_title(\"Numerical Approximation\")\n",
    "plot(t_times,y_output[:,0],'rd',ms=20,alpha=0.5)\n",
    "plot(t_FD,w_FD,'.',ms=20,alpha=0.5)"
   ]
  },
  {
   "cell_type": "markdown",
   "metadata": {},
   "source": [
    "<div id='acknowledgements' />\n",
    "# Acknowledgements\n",
    "* _Material creado por profesor Claudio Torres_ (`ctorres@inf.utfsm.cl`) _y ayudantes: Alvaro Salinas y Martín \n",
    "Villanueva. DI UTFSM. Abril 2016._\n",
    "\n",
    "***\n",
    "### DISCLAIMER ###\n",
    "\n",
    "El presente notebook ha sido creado para el curso **ILI286 - Computación Científica 2**, del [Departamento de Informática](http://www.inf.utfsm.cl/), [Universidad Técnica Federico Santa María](http://www.utfsm.cl/). \n",
    "\n",
    "El material ha sido creado por Claudio Torres <ctorres@inf.utfsm.cl> y Sebastian Flores <sebastian.flores@usm.cl>, y es distribuido sin restricciones. En caso de encontrar un error, por favor no dude en contactarnos.\n",
    "\n",
    "[Update 2015] Se ha actualizado los notebooks a Python 3 e includio el \"magic\" \"%matplotlib inline\" antes de cargar matplotlib para que los gráficos se generen en el notebook. \n",
    "\n",
    "[Update 2016] (Álvaro) Modificaciones mayores al formato original. Agregado contexto: Introducción, Tabla de Contenidos, Explicaciones de cada método.\n",
    "***"
   ]
  },
  {
   "cell_type": "code",
   "execution_count": null,
   "metadata": {},
   "outputs": [],
   "source": []
  }
 ],
 "metadata": {
  "anaconda-cloud": {},
  "kernelspec": {
   "display_name": "Python 3",
   "language": "python",
   "name": "python3"
  },
  "language_info": {
   "codemirror_mode": {
    "name": "ipython",
    "version": 3
   },
   "file_extension": ".py",
   "mimetype": "text/x-python",
   "name": "python",
   "nbconvert_exporter": "python",
   "pygments_lexer": "ipython3",
   "version": "3.7.3"
  }
 },
 "nbformat": 4,
 "nbformat_minor": 1
}
