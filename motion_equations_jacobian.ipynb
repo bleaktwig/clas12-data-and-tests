{
 "cells": [
  {
   "cell_type": "code",
   "execution_count": 13,
   "metadata": {},
   "outputs": [],
   "source": [
    "from sympy import *\n",
    "# from sympy.vector import Vector\n",
    "# import itertools\n",
    "\n",
    "init_printing()"
   ]
  },
  {
   "cell_type": "code",
   "execution_count": 1,
   "metadata": {},
   "outputs": [],
   "source": [
    "import numpy as np"
   ]
  },
  {
   "cell_type": "code",
   "execution_count": 12,
   "metadata": {},
   "outputs": [],
   "source": [
    "indices = [\"z       : \", \"x       : \", \"y       : \", \"tx      : \", \"ty      : \", \"q       : \",\n",
    "           \"dx/dtx  : \", \"dx/dty  : \", \"dx/dq   : \",\n",
    "           \"dy/dtx  : \", \"dy/dty  : \", \"dy/dq   : \",\n",
    "           \"dtx/dty : \", \"dtx/dq  : \",\n",
    "           \"dty/dtx : \", \"dty/dq  : \"\n",
    "          ]"
   ]
  },
  {
   "cell_type": "code",
   "execution_count": 23,
   "metadata": {},
   "outputs": [],
   "source": [
    "abm4_1_arr = np.array([\n",
    "    355.016389113687,\n",
    "   -107.757589808357,\n",
    "     -1.086303783549,\n",
    "     -0.315882452734,\n",
    "     -0.005972304232,\n",
    "     -0.090912657733,\n",
    "      0.998545701367,\n",
    "      0.000000743170,\n",
    "     -0.000059134835,\n",
    "     -0.000001489396,\n",
    "      1.000150253569,\n",
    "     -0.000014579332,\n",
    "      0.000001484711,\n",
    "     -0.000117373296,\n",
    "     -0.000002972693,\n",
    "     -0.000029110881\n",
    "])\n",
    "\n",
    "abm4_01_arr = np.array([\n",
    "    355.016389113709,\n",
    "   -107.757589808395,\n",
    "     -1.086303783585,\n",
    "     -0.315882452731,\n",
    "     -0.005972304233,\n",
    "     -0.090912657733,\n",
    "      0.098590979097,\n",
    "      0.000000007593,\n",
    "     -0.000000672229,\n",
    "     -0.000000015342,\n",
    "      0.100161444961,\n",
    "     -0.000000150120,\n",
    "      0.000000152026,\n",
    "     -0.000013435567,\n",
    "     -0.000000305771,\n",
    "     -0.000003001911\n",
    "])\n",
    "\n",
    "abm4_001_arr = np.array([\n",
    "    355.016389113588,\n",
    "   -107.757589808337,\n",
    "     -1.086303783576,\n",
    "     -0.315882452730,\n",
    "     -0.005972304233,\n",
    "     -0.090912657733,\n",
    "      0.008595451391,\n",
    "      0.000000000076,\n",
    "     -0.000000006803,\n",
    "     -0.000000000154,\n",
    "      0.010162446202,\n",
    "     -0.000000001506,\n",
    "      0.000000015398,\n",
    "     -0.000001360586,\n",
    "     -0.000000029767,\n",
    "     -0.000000301106 \n",
    "])\n",
    "\n",
    "rk4_arr = np.array([\n",
    "     355.016389113588,\n",
    "    -107.757589808334,\n",
    "      -1.086303783586,\n",
    "      -0.315882452730,\n",
    "      -0.005972304233,\n",
    "      -0.090912657733, \n",
    "       0.010000001578,\n",
    "       0.000000000022,\n",
    "       0.000000020147,\n",
    "      -0.000000000014,\n",
    "       0.010000000526,\n",
    "      -0.000000000232,\n",
    "       0.000000004344, \n",
    "       0.000004029463,\n",
    "      -0.000000002755,\n",
    "      -0.000000046403\n",
    "])\n",
    "err_arr = [np.abs(rk4_arr[i] - abm4_001_arr[i]) for i in range(len(rk4_arr))]\n"
   ]
  },
  {
   "cell_type": "code",
   "execution_count": 24,
   "metadata": {},
   "outputs": [
    {
     "name": "stdout",
     "output_type": "stream",
     "text": [
      "z       : 0.0\n",
      "x       : 2.9984903449076228e-12\n",
      "y       : 1.000000082740371e-11\n",
      "tx      : 0.0\n",
      "ty      : 0.0\n",
      "q       : 0.0\n",
      "dx/dtx  : 0.0014045501869999998\n",
      "dx/dty  : 5.3999999999999994e-11\n",
      "dx/dq   : 2.695e-08\n",
      "dy/dtx  : 1.4e-10\n",
      "dy/dty  : 0.00016244567599999968\n",
      "dy/dq   : 1.274e-09\n",
      "dtx/dty : 1.1054000000000001e-08\n",
      "dtx/dq  : 5.390049e-06\n",
      "dty/dtx : 2.7012e-08\n",
      "dty/dq  : 2.54703e-07\n"
     ]
    }
   ],
   "source": [
    "for i in range(len(err_arr)):\n",
    "    print(indices[i] + str(err_arr[i]))"
   ]
  },
  {
   "cell_type": "code",
   "execution_count": 6,
   "metadata": {},
   "outputs": [],
   "source": [
    "z, x, y, tx, ty, q, v = symbols(\"z x y theta_x theta_y q v\")\n",
    "B1 = Function(\"B1\")(x,y,z)\n",
    "B2 = Function(\"B2\")(x,y,z)\n",
    "B3 = Function(\"B3\")(x,y,z)"
   ]
  },
  {
   "cell_type": "code",
   "execution_count": 7,
   "metadata": {},
   "outputs": [],
   "source": [
    "def f_x(z,x,y,tx,ty,q,v):\n",
    "    return tx\n",
    "\n",
    "def f_y(z,x,y,tx,ty,q,v):\n",
    "    return ty\n",
    "\n",
    "def f_tx(z,x,y,tx,ty,q,v):\n",
    "    return q*v*sqrt(1+tx**2+ty**2)*(ty*(tx*B1+B3)-(1+tx**2)*B2)\n",
    "\n",
    "def f_ty(z,x,y,tx,ty,q,v):\n",
    "    return q*v*sqrt(1+tx**2+ty**2)*(-tx*(ty*B2 + B3)+(1+ty**2)*B1)\n",
    "\n",
    "def f_q(z,x,y,tx,ty,q,v):\n",
    "    return 0"
   ]
  },
  {
   "cell_type": "markdown",
   "metadata": {},
   "source": [
    "# Jacobian\n",
    "### J1"
   ]
  },
  {
   "cell_type": "code",
   "execution_count": 8,
   "metadata": {},
   "outputs": [
    {
     "data": {
      "text/plain": [
       "(0, 0, 1, 0, 0)"
      ]
     },
     "execution_count": 8,
     "metadata": {},
     "output_type": "execute_result"
    }
   ],
   "source": [
    "(diff(f_x(z,x,y,tx,ty,q,v), x),\n",
    " diff(f_x(z,x,y,tx,ty,q,v), y),\n",
    " diff(f_x(z,x,y,tx,ty,q,v), tx), \n",
    " diff(f_x(z,x,y,tx,ty,q,v), ty),\n",
    " diff(f_x(z,x,y,tx,ty,q,v), q))"
   ]
  },
  {
   "cell_type": "markdown",
   "metadata": {},
   "source": [
    "### J2"
   ]
  },
  {
   "cell_type": "code",
   "execution_count": 9,
   "metadata": {},
   "outputs": [
    {
     "data": {
      "text/plain": [
       "(0, 0, 0, 1, 0)"
      ]
     },
     "execution_count": 9,
     "metadata": {},
     "output_type": "execute_result"
    }
   ],
   "source": [
    "(diff(f_y(z,x,y,tx,ty,q,v), x),\n",
    " diff(f_y(z,x,y,tx,ty,q,v), y),\n",
    " diff(f_y(z,x,y,tx,ty,q,v), tx), \n",
    " diff(f_y(z,x,y,tx,ty,q,v), ty),\n",
    " diff(f_y(z,x,y,tx,ty,q,v), q))"
   ]
  },
  {
   "cell_type": "markdown",
   "metadata": {},
   "source": [
    "### J3"
   ]
  },
  {
   "cell_type": "code",
   "execution_count": 22,
   "metadata": {},
   "outputs": [
    {
     "data": {
      "image/png": "[encoded data removed]",
      "text/latex": [
       "$$\\left ( q v \\left(\\theta_{y} \\left(\\theta_{x} \\frac{\\partial}{\\partial x} \\operatorname{B_{1}}{\\left (x,y,z \\right )} + \\frac{\\partial}{\\partial x} \\operatorname{B_{3}}{\\left (x,y,z \\right )}\\right) + \\left(- \\theta_{x}^{2} - 1\\right) \\frac{\\partial}{\\partial x} \\operatorname{B_{2}}{\\left (x,y,z \\right )}\\right) \\sqrt{\\theta_{x}^{2} + \\theta_{y}^{2} + 1}, \\quad q v \\left(\\theta_{y} \\left(\\theta_{x} \\frac{\\partial}{\\partial y} \\operatorname{B_{1}}{\\left (x,y,z \\right )} + \\frac{\\partial}{\\partial y} \\operatorname{B_{3}}{\\left (x,y,z \\right )}\\right) + \\left(- \\theta_{x}^{2} - 1\\right) \\frac{\\partial}{\\partial y} \\operatorname{B_{2}}{\\left (x,y,z \\right )}\\right) \\sqrt{\\theta_{x}^{2} + \\theta_{y}^{2} + 1}, \\quad \\frac{q \\theta_{x} v \\left(\\theta_{y} \\left(\\theta_{x} \\operatorname{B_{1}}{\\left (x,y,z \\right )} + \\operatorname{B_{3}}{\\left (x,y,z \\right )}\\right) - \\left(\\theta_{x}^{2} + 1\\right) \\operatorname{B_{2}}{\\left (x,y,z \\right )}\\right)}{\\sqrt{\\theta_{x}^{2} + \\theta_{y}^{2} + 1}} + q v \\left(- 2 \\theta_{x} \\operatorname{B_{2}}{\\left (x,y,z \\right )} + \\theta_{y} \\operatorname{B_{1}}{\\left (x,y,z \\right )}\\right) \\sqrt{\\theta_{x}^{2} + \\theta_{y}^{2} + 1}, \\quad \\frac{q \\theta_{y} v \\left(\\theta_{y} \\left(\\theta_{x} \\operatorname{B_{1}}{\\left (x,y,z \\right )} + \\operatorname{B_{3}}{\\left (x,y,z \\right )}\\right) - \\left(\\theta_{x}^{2} + 1\\right) \\operatorname{B_{2}}{\\left (x,y,z \\right )}\\right)}{\\sqrt{\\theta_{x}^{2} + \\theta_{y}^{2} + 1}} + q v \\left(\\theta_{x} \\operatorname{B_{1}}{\\left (x,y,z \\right )} + \\operatorname{B_{3}}{\\left (x,y,z \\right )}\\right) \\sqrt{\\theta_{x}^{2} + \\theta_{y}^{2} + 1}, \\quad v \\left(\\theta_{y} \\left(\\theta_{x} \\operatorname{B_{1}}{\\left (x,y,z \\right )} + \\operatorname{B_{3}}{\\left (x,y,z \\right )}\\right) - \\left(\\theta_{x}^{2} + 1\\right) \\operatorname{B_{2}}{\\left (x,y,z \\right )}\\right) \\sqrt{\\theta_{x}^{2} + \\theta_{y}^{2} + 1}\\right )$$"
      ],
      "text/plain": [
       "⎛                                                                             \n",
       "⎜    ⎛    ⎛   ∂                 ∂              ⎞   ⎛    2    ⎞ ∂              \n",
       "⎜q⋅v⋅⎜θ_y⋅⎜θₓ⋅──(B₁(x, y, z)) + ──(B₃(x, y, z))⎟ + ⎝- θₓ  - 1⎠⋅──(B₂(x, y, z))\n",
       "⎜    ⎝    ⎝   ∂x                ∂x             ⎠               ∂x             \n",
       "⎜                                                                             \n",
       "⎝                                                                             \n",
       "\n",
       "     ________________                                                         \n",
       "⎞   ╱   2      2           ⎛    ⎛   ∂                 ∂              ⎞   ⎛    \n",
       "⎟⋅╲╱  θₓ  + θ_y  + 1 , q⋅v⋅⎜θ_y⋅⎜θₓ⋅──(B₁(x, y, z)) + ──(B₃(x, y, z))⎟ + ⎝- θₓ\n",
       "⎠                          ⎝    ⎝   ∂y                ∂y             ⎠        \n",
       "                                                                              \n",
       "                                                                              \n",
       "\n",
       "                           ________________         ⎛                         \n",
       "2    ⎞ ∂              ⎞   ╱   2      2       q⋅θₓ⋅v⋅⎝θ_y⋅(θₓ⋅B₁(x, y, z) + B₃(\n",
       "  - 1⎠⋅──(B₂(x, y, z))⎟⋅╲╱  θₓ  + θ_y  + 1 , ─────────────────────────────────\n",
       "       ∂y             ⎠                                                 ______\n",
       "                                                                       ╱   2  \n",
       "                                                                     ╲╱  θₓ  +\n",
       "\n",
       "            ⎛  2    ⎞            ⎞                                            \n",
       "x, y, z)) - ⎝θₓ  + 1⎠⋅B₂(x, y, z)⎠                                            \n",
       "────────────────────────────────── + q⋅v⋅(-2⋅θₓ⋅B₂(x, y, z) + θ_y⋅B₁(x, y, z))\n",
       "__________                                                                    \n",
       "    2                                                                         \n",
       " θ_y  + 1                                                                     \n",
       "\n",
       "    ________________          ⎛                                     ⎛  2    ⎞ \n",
       "   ╱   2      2       q⋅θ_y⋅v⋅⎝θ_y⋅(θₓ⋅B₁(x, y, z) + B₃(x, y, z)) - ⎝θₓ  + 1⎠⋅\n",
       "⋅╲╱  θₓ  + θ_y  + 1 , ────────────────────────────────────────────────────────\n",
       "                                                 ________________             \n",
       "                                                ╱   2      2                  \n",
       "                                              ╲╱  θₓ  + θ_y  + 1              \n",
       "\n",
       "           ⎞                                         ________________         \n",
       "B₂(x, y, z)⎠                                        ╱   2      2         ⎛    \n",
       "──────────── + q⋅v⋅(θₓ⋅B₁(x, y, z) + B₃(x, y, z))⋅╲╱  θₓ  + θ_y  + 1 , v⋅⎝θ_y⋅\n",
       "                                                                              \n",
       "                                                                              \n",
       "                                                                              \n",
       "\n",
       "                                                           ________________⎞\n",
       "                                 ⎛  2    ⎞            ⎞   ╱   2      2     ⎟\n",
       "(θₓ⋅B₁(x, y, z) + B₃(x, y, z)) - ⎝θₓ  + 1⎠⋅B₂(x, y, z)⎠⋅╲╱  θₓ  + θ_y  + 1 ⎟\n",
       "                                                                           ⎟\n",
       "                                                                           ⎟\n",
       "                                                                           ⎠"
      ]
     },
     "execution_count": 22,
     "metadata": {},
     "output_type": "execute_result"
    }
   ],
   "source": [
    "df_tx_tx = diff(f_tx(z,x,y,tx,ty,q,v), tx)\n",
    "df_tx_ty = diff(f_tx(z,x,y,tx,ty,q,v), ty)\n",
    "df_tx_q  = diff(f_tx(z,x,y,tx,ty,q,v), q)\n",
    "(diff(f_tx(z,x,y,tx,ty,q,v), x),\n",
    " diff(f_tx(z,x,y,tx,ty,q,v), y),\n",
    " diff(f_tx(z,x,y,tx,ty,q,v), tx), \n",
    " diff(f_tx(z,x,y,tx,ty,q,v), ty),\n",
    " diff(f_tx(z,x,y,tx,ty,q,v), q))"
   ]
  },
  {
   "cell_type": "code",
   "execution_count": 29,
   "metadata": {},
   "outputs": [
    {
     "data": {
      "text/plain": [
       "'v \\\\left(- \\\\theta_{x} \\\\left(\\\\theta_{y} \\\\operatorname{B_{2}}{\\\\left (x,y,z \\\\right )} + \\\\operatorname{B_{3}}{\\\\left (x,y,z \\\\right )}\\\\right) + \\\\left(\\\\theta_{y}^{2} + 1\\\\right) \\\\operatorname{B_{1}}{\\\\left (x,y,z \\\\right )}\\\\right) \\\\sqrt{\\\\theta_{x}^{2} + \\\\theta_{y}^{2} + 1}'"
      ]
     },
     "execution_count": 29,
     "metadata": {},
     "output_type": "execute_result"
    }
   ],
   "source": [
    "latex(diff(f_ty(z,x,y,tx,ty,q,v), q))"
   ]
  },
  {
   "cell_type": "code",
   "execution_count": 24,
   "metadata": {},
   "outputs": [
    {
     "data": {
      "image/png": "[encoded data removed]",
      "text/latex": [
       "$$\\left ( q v \\left(- \\theta_{x} \\left(\\theta_{y} \\frac{\\partial}{\\partial x} \\operatorname{B_{2}}{\\left (x,y,z \\right )} + \\frac{\\partial}{\\partial x} \\operatorname{B_{3}}{\\left (x,y,z \\right )}\\right) + \\left(\\theta_{y}^{2} + 1\\right) \\frac{\\partial}{\\partial x} \\operatorname{B_{1}}{\\left (x,y,z \\right )}\\right) \\sqrt{\\theta_{x}^{2} + \\theta_{y}^{2} + 1}, \\quad q v \\left(- \\theta_{x} \\left(\\theta_{y} \\frac{\\partial}{\\partial y} \\operatorname{B_{2}}{\\left (x,y,z \\right )} + \\frac{\\partial}{\\partial y} \\operatorname{B_{3}}{\\left (x,y,z \\right )}\\right) + \\left(\\theta_{y}^{2} + 1\\right) \\frac{\\partial}{\\partial y} \\operatorname{B_{1}}{\\left (x,y,z \\right )}\\right) \\sqrt{\\theta_{x}^{2} + \\theta_{y}^{2} + 1}, \\quad \\frac{q \\theta_{x} v \\left(- \\theta_{x} \\left(\\theta_{y} \\operatorname{B_{2}}{\\left (x,y,z \\right )} + \\operatorname{B_{3}}{\\left (x,y,z \\right )}\\right) + \\left(\\theta_{y}^{2} + 1\\right) \\operatorname{B_{1}}{\\left (x,y,z \\right )}\\right)}{\\sqrt{\\theta_{x}^{2} + \\theta_{y}^{2} + 1}} + q v \\left(- \\theta_{y} \\operatorname{B_{2}}{\\left (x,y,z \\right )} - \\operatorname{B_{3}}{\\left (x,y,z \\right )}\\right) \\sqrt{\\theta_{x}^{2} + \\theta_{y}^{2} + 1}, \\quad \\frac{q \\theta_{y} v \\left(- \\theta_{x} \\left(\\theta_{y} \\operatorname{B_{2}}{\\left (x,y,z \\right )} + \\operatorname{B_{3}}{\\left (x,y,z \\right )}\\right) + \\left(\\theta_{y}^{2} + 1\\right) \\operatorname{B_{1}}{\\left (x,y,z \\right )}\\right)}{\\sqrt{\\theta_{x}^{2} + \\theta_{y}^{2} + 1}} + q v \\left(- \\theta_{x} \\operatorname{B_{2}}{\\left (x,y,z \\right )} + 2 \\theta_{y} \\operatorname{B_{1}}{\\left (x,y,z \\right )}\\right) \\sqrt{\\theta_{x}^{2} + \\theta_{y}^{2} + 1}, \\quad v \\left(- \\theta_{x} \\left(\\theta_{y} \\operatorname{B_{2}}{\\left (x,y,z \\right )} + \\operatorname{B_{3}}{\\left (x,y,z \\right )}\\right) + \\left(\\theta_{y}^{2} + 1\\right) \\operatorname{B_{1}}{\\left (x,y,z \\right )}\\right) \\sqrt{\\theta_{x}^{2} + \\theta_{y}^{2} + 1}\\right )$$"
      ],
      "text/plain": [
       "⎛                                                                             \n",
       "⎜    ⎛     ⎛    ∂                 ∂              ⎞   ⎛   2    ⎞ ∂             \n",
       "⎜q⋅v⋅⎜- θₓ⋅⎜θ_y⋅──(B₂(x, y, z)) + ──(B₃(x, y, z))⎟ + ⎝θ_y  + 1⎠⋅──(B₁(x, y, z)\n",
       "⎜    ⎝     ⎝    ∂x                ∂x             ⎠              ∂x            \n",
       "⎜                                                                             \n",
       "⎝                                                                             \n",
       "\n",
       "      ________________                                                        \n",
       " ⎞   ╱   2      2           ⎛     ⎛    ∂                 ∂              ⎞   ⎛ \n",
       ")⎟⋅╲╱  θₓ  + θ_y  + 1 , q⋅v⋅⎜- θₓ⋅⎜θ_y⋅──(B₂(x, y, z)) + ──(B₃(x, y, z))⎟ + ⎝θ\n",
       " ⎠                          ⎝     ⎝    ∂y                ∂y             ⎠     \n",
       "                                                                              \n",
       "                                                                              \n",
       "\n",
       "                             ________________         ⎛                       \n",
       "  2    ⎞ ∂              ⎞   ╱   2      2       q⋅θₓ⋅v⋅⎝-θₓ⋅(θ_y⋅B₂(x, y, z) + \n",
       "_y  + 1⎠⋅──(B₁(x, y, z))⎟⋅╲╱  θₓ  + θ_y  + 1 , ───────────────────────────────\n",
       "         ∂y             ⎠                                                  ___\n",
       "                                                                          ╱   \n",
       "                                                                        ╲╱  θₓ\n",
       "\n",
       "               ⎛   2    ⎞            ⎞                                        \n",
       "B₃(x, y, z)) + ⎝θ_y  + 1⎠⋅B₁(x, y, z)⎠                                        \n",
       "────────────────────────────────────── + q⋅v⋅(-θ_y⋅B₂(x, y, z) - B₃(x, y, z))⋅\n",
       "_____________                                                                 \n",
       "2      2                                                                      \n",
       "  + θ_y  + 1                                                                  \n",
       "\n",
       "   ________________          ⎛                                      ⎛   2    ⎞\n",
       "  ╱   2      2       q⋅θ_y⋅v⋅⎝-θₓ⋅(θ_y⋅B₂(x, y, z) + B₃(x, y, z)) + ⎝θ_y  + 1⎠\n",
       "╲╱  θₓ  + θ_y  + 1 , ─────────────────────────────────────────────────────────\n",
       "                                                 ________________             \n",
       "                                                ╱   2      2                  \n",
       "                                              ╲╱  θₓ  + θ_y  + 1              \n",
       "\n",
       "            ⎞                                                ________________ \n",
       "⋅B₁(x, y, z)⎠                                               ╱   2      2      \n",
       "───────────── + q⋅v⋅(-θₓ⋅B₂(x, y, z) + 2⋅θ_y⋅B₁(x, y, z))⋅╲╱  θₓ  + θ_y  + 1 ,\n",
       "                                                                              \n",
       "                                                                              \n",
       "                                                                              \n",
       "\n",
       "                                                                     _________\n",
       "   ⎛                                      ⎛   2    ⎞            ⎞   ╱   2     \n",
       " v⋅⎝-θₓ⋅(θ_y⋅B₂(x, y, z) + B₃(x, y, z)) + ⎝θ_y  + 1⎠⋅B₁(x, y, z)⎠⋅╲╱  θₓ  + θ_\n",
       "                                                                              \n",
       "                                                                              \n",
       "                                                                              \n",
       "\n",
       "_______⎞\n",
       " 2     ⎟\n",
       "y  + 1 ⎟\n",
       "       ⎟\n",
       "       ⎟\n",
       "       ⎠"
      ]
     },
     "execution_count": 24,
     "metadata": {},
     "output_type": "execute_result"
    }
   ],
   "source": [
    "df_ty_tx = diff(f_ty(z,x,y,tx,ty,q,v), tx)\n",
    "df_ty_ty = diff(f_ty(z,x,y,tx,ty,q,v), ty)\n",
    "df_ty_q  = diff(f_ty(z,x,y,tx,ty,q,v), q)\n",
    "(diff(f_ty(z,x,y,tx,ty,q,v), x),\n",
    " diff(f_ty(z,x,y,tx,ty,q,v), y),\n",
    " diff(f_ty(z,x,y,tx,ty,q,v), tx), \n",
    " diff(f_ty(z,x,y,tx,ty,q,v), ty),\n",
    " diff(f_ty(z,x,y,tx,ty,q,v), q))"
   ]
  },
  {
   "cell_type": "code",
   "execution_count": 12,
   "metadata": {},
   "outputs": [
    {
     "data": {
      "text/plain": [
       "(0, 0, 0, 0, 0)"
      ]
     },
     "execution_count": 12,
     "metadata": {},
     "output_type": "execute_result"
    }
   ],
   "source": [
    "(diff(f_q(z,x,y,tx,ty,q,v), x),\n",
    " diff(f_q(z,x,y,tx,ty,q,v), y),\n",
    " diff(f_q(z,x,y,tx,ty,q,v), tx), \n",
    " diff(f_q(z,x,y,tx,ty,q,v), ty),\n",
    " diff(f_q(z,x,y,tx,ty,q,v), q))"
   ]
  },
  {
   "cell_type": "code",
   "execution_count": null,
   "metadata": {},
   "outputs": [],
   "source": [
    "df_tx_tx - (q*v*tx*(-B2*(tx**2+1)+ty*(B1*tx+B3)))/sqrt(1+tx**2+ty**2) - q*v*(B1*ty - 2*B2*tx)*sqrt(1+tx**2+ty**2)"
   ]
  },
  {
   "cell_type": "code",
   "execution_count": null,
   "metadata": {},
   "outputs": [],
   "source": [
    "df_tx_ty - (q*v*ty*(-B2*(tx**2+1)+ty*(B1*tx+B3)))/sqrt(1+tx**2+ty**2) - q*v*(B1*tx + B3)*sqrt(1+tx**2+ty**2)"
   ]
  },
  {
   "cell_type": "code",
   "execution_count": null,
   "metadata": {},
   "outputs": [],
   "source": [
    "df_tx_q - v*sqrt(1+tx**2+ty**2)*(ty*(tx*B1+B3)-(1+tx**2)*B2)"
   ]
  },
  {
   "cell_type": "code",
   "execution_count": null,
   "metadata": {},
   "outputs": [],
   "source": [
    "df_ty_tx - (q*v*tx*(B1*(ty**2+1)-tx*(B2*ty+B3)))/sqrt(1+tx**2+ty**2) - q*v*(-B2*ty - B3)*sqrt(1+tx**2+ty**2)"
   ]
  },
  {
   "cell_type": "code",
   "execution_count": null,
   "metadata": {},
   "outputs": [],
   "source": [
    "df_ty_ty - (q*v*ty*(B1*(ty**2+1)-tx*(B2*ty+B3)))/sqrt(1+tx**2+ty**2) - q*v*(2*B1*ty - B2*tx)*sqrt(1+tx**2+ty**2)"
   ]
  },
  {
   "cell_type": "code",
   "execution_count": null,
   "metadata": {},
   "outputs": [],
   "source": [
    "df_ty_q - v*sqrt(1+tx**2+ty**2)*(B1*(ty**2+1)-tx*(B2*ty+B3))"
   ]
  },
  {
   "cell_type": "code",
   "execution_count": null,
   "metadata": {},
   "outputs": [],
   "source": []
  }
 ],
 "metadata": {
  "kernelspec": {
   "display_name": "Python 3",
   "language": "python",
   "name": "python3"
  },
  "language_info": {
   "codemirror_mode": {
    "name": "ipython",
    "version": 3
   },
   "file_extension": ".py",
   "mimetype": "text/x-python",
   "name": "python",
   "nbconvert_exporter": "python",
   "pygments_lexer": "ipython3",
   "version": "3.7.3"
  }
 },
 "nbformat": 4,
 "nbformat_minor": 2
}
