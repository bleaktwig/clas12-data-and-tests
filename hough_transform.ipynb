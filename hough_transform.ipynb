{
 "cells": [
  {
   "cell_type": "code",
   "execution_count": 7,
   "metadata": {},
   "outputs": [
    {
     "name": "stdout",
     "output_type": "stream",
     "text": [
      "image shape:  (766, 226, 4)\n"
     ]
    },
    {
     "name": "stderr",
     "output_type": "stream",
     "text": [
      "/home/twig/anaconda3/envs/RK4/lib/python3.7/site-packages/ipykernel_launcher.py:12: DeprecationWarning: `imread` is deprecated!\n",
      "`imread` is deprecated in SciPy 1.0.0, and will be removed in 1.2.0.\n",
      "Use ``imageio.imread`` instead.\n",
      "  if sys.path[0] == '':\n"
     ]
    }
   ],
   "source": [
    "from scipy import misc\n",
    "\n",
    "import matplotlib.pyplot as plt\n",
    "import numpy as np\n",
    "import math\n",
    "\n",
    "import scipy.ndimage.filters as filters\n",
    "import scipy.ndimage as ndimage\n",
    "\n",
    "DIR = \"data/hough_transform/\"\n",
    "\n",
    "img = misc.imread(DIR + \"orig.png\")\n",
    "\n",
    "print(\"image shape: \", img.shape)\n",
    "\n",
    "plt.imshow(img, )\n",
    "plt.savefig(DIR + \"image.png\", bbox_inches='tight')\n",
    "plt.close()\n"
   ]
  },
  {
   "cell_type": "code",
   "execution_count": 8,
   "metadata": {},
   "outputs": [
    {
     "ename": "IndexError",
     "evalue": "only integers, slices (`:`), ellipsis (`...`), numpy.newaxis (`None`) and integer or boolean arrays are valid indices",
     "output_type": "error",
     "traceback": [
      "\u001b[0;31m---------------------------------------------------------------------------\u001b[0m",
      "\u001b[0;31mIndexError\u001b[0m                                Traceback (most recent call last)",
      "\u001b[0;32m<ipython-input-8-77c2f8bb529e>\u001b[0m in \u001b[0;36m<module>\u001b[0;34m\u001b[0m\n\u001b[1;32m     22\u001b[0m             \u001b[0mr\u001b[0m \u001b[0;34m=\u001b[0m \u001b[0mx\u001b[0m \u001b[0;34m*\u001b[0m \u001b[0mmath\u001b[0m\u001b[0;34m.\u001b[0m\u001b[0mcos\u001b[0m\u001b[0;34m(\u001b[0m\u001b[0mtheta\u001b[0m\u001b[0;34m)\u001b[0m \u001b[0;34m+\u001b[0m \u001b[0my\u001b[0m \u001b[0;34m*\u001b[0m \u001b[0mmath\u001b[0m\u001b[0;34m.\u001b[0m\u001b[0msin\u001b[0m\u001b[0;34m(\u001b[0m\u001b[0mtheta\u001b[0m\u001b[0;34m)\u001b[0m\u001b[0;34m\u001b[0m\u001b[0;34m\u001b[0m\u001b[0m\n\u001b[1;32m     23\u001b[0m             \u001b[0mir\u001b[0m \u001b[0;34m=\u001b[0m \u001b[0mr_dim\u001b[0m \u001b[0;34m*\u001b[0m \u001b[0;34m(\u001b[0m \u001b[0;36m1.0\u001b[0m \u001b[0;34m*\u001b[0m \u001b[0mr\u001b[0m \u001b[0;34m)\u001b[0m \u001b[0;34m/\u001b[0m \u001b[0mr_max\u001b[0m\u001b[0;34m\u001b[0m\u001b[0;34m\u001b[0m\u001b[0m\n\u001b[0;32m---> 24\u001b[0;31m             \u001b[0mhough_space\u001b[0m\u001b[0;34m[\u001b[0m\u001b[0mir\u001b[0m\u001b[0;34m,\u001b[0m\u001b[0mitheta\u001b[0m\u001b[0;34m]\u001b[0m \u001b[0;34m=\u001b[0m \u001b[0mhough_space\u001b[0m\u001b[0;34m[\u001b[0m\u001b[0mir\u001b[0m\u001b[0;34m,\u001b[0m\u001b[0mitheta\u001b[0m\u001b[0;34m]\u001b[0m \u001b[0;34m+\u001b[0m \u001b[0;36m1\u001b[0m\u001b[0;34m\u001b[0m\u001b[0;34m\u001b[0m\u001b[0m\n\u001b[0m\u001b[1;32m     25\u001b[0m \u001b[0;34m\u001b[0m\u001b[0m\n\u001b[1;32m     26\u001b[0m \u001b[0mplt\u001b[0m\u001b[0;34m.\u001b[0m\u001b[0mimshow\u001b[0m\u001b[0;34m(\u001b[0m\u001b[0mhough_space\u001b[0m\u001b[0;34m,\u001b[0m \u001b[0morigin\u001b[0m\u001b[0;34m=\u001b[0m\u001b[0;34m'lower'\u001b[0m\u001b[0;34m)\u001b[0m\u001b[0;34m\u001b[0m\u001b[0;34m\u001b[0m\u001b[0m\n",
      "\u001b[0;31mIndexError\u001b[0m: only integers, slices (`:`), ellipsis (`...`), numpy.newaxis (`None`) and integer or boolean arrays are valid indices"
     ]
    }
   ],
   "source": [
    "img_shape = img.shape\n",
    "\n",
    "x_max = img_shape[0]\n",
    "y_max = img_shape[1]\n",
    "\n",
    "theta_max = 1.0 * math.pi \n",
    "theta_min = 0.0\n",
    "\n",
    "r_min = 0.0\n",
    "r_max = math.hypot(x_max, y_max)\n",
    "\n",
    "r_dim = 200 \n",
    "theta_dim = 300\n",
    "\n",
    "hough_space = np.zeros((r_dim,theta_dim))\n",
    "\n",
    "for x in range(x_max):\n",
    "    for y in range(y_max):\n",
    "        if img[x,y,0] == 255: continue\n",
    "        for itheta in range(theta_dim):\n",
    "            theta = 1.0 * itheta * theta_max / theta_dim\n",
    "            r = x * math.cos(theta) + y * math.sin(theta)\n",
    "            ir = r_dim * ( 1.0 * r ) / r_max\n",
    "            hough_space[ir,itheta] = hough_space[ir,itheta] + 1\n",
    "\n",
    "plt.imshow(hough_space, origin='lower')\n",
    "plt.xlim(0,theta_dim)\n",
    "plt.ylim(0,r_dim)\n",
    "\n",
    "tick_locs = [i for i in range(0,theta_dim,40)]\n",
    "tick_lbls = [round( (1.0 * i * theta_max) / theta_dim,1) for i in range(0,theta_dim,40)]\n",
    "plt.xticks(tick_locs, tick_lbls)\n",
    "\n",
    "tick_locs = [i for i in range(0,r_dim,20)]\n",
    "tick_lbls = [round( (1.0 * i * r_max ) / r_dim,1) for i in range(0,r_dim,20)]\n",
    "plt.yticks(tick_locs, tick_lbls)\n",
    "\n",
    "plt.xlabel(r'Theta')\n",
    "plt.ylabel(r'r')\n",
    "plt.title('Hough Space')\n",
    "\n",
    "plt.savefig(\"hough_space_r_theta.png\",bbox_inches='tight')\n",
    "\n",
    "plt.close()"
   ]
  },
  {
   "cell_type": "code",
   "execution_count": 14,
   "metadata": {},
   "outputs": [],
   "source": [
    "import numpy as np\n",
    "\n",
    "from skimage.transform import (hough_line, hough_line_peaks, probabilistic_hough_line)\n",
    "from skimage.feature import canny\n",
    "from skimage import data\n",
    "\n",
    "import matplotlib.pyplot as plt\n",
    "from matplotlib import cm"
   ]
  },
  {
   "cell_type": "code",
   "execution_count": null,
   "metadata": {},
   "outputs": [],
   "source": [
    "# Constructing test image\n",
    "image = np.zeros((100, 100))\n",
    "idx = np.arange(25, 75)\n",
    "image[idx[::-1], idx] = 255\n",
    "image[idx, idx] = 255"
   ]
  },
  {
   "cell_type": "code",
   "execution_count": null,
   "metadata": {},
   "outputs": [],
   "source": [
    "# Using real image\n",
    "image = misc.imread(DIR + \"orig.png\")"
   ]
  },
  {
   "cell_type": "code",
   "execution_count": null,
   "metadata": {},
   "outputs": [],
   "source": [
    "print(\"image shape: \", image.shape)\n",
    "\n",
    "# Classic straight-line Hough transform\n",
    "h, theta, d = hough_line(image)\n",
    "\n",
    "# Generating figure 1\n",
    "fig, axes = plt.subplots(1, 3, figsize=(15, 6))\n",
    "ax = axes.ravel()\n",
    "\n",
    "ax[0].imshow(image, cmap=cm.gray)\n",
    "ax[0].set_title('Input image')\n",
    "ax[0].set_axis_off()\n",
    "\n",
    "ax[1].imshow(np.log(1 + h),\n",
    "             extent=[np.rad2deg(theta[-1]), np.rad2deg(theta[0]), d[-1], d[0]],\n",
    "             cmap=cm.gray, aspect=1/1.5)\n",
    "ax[1].set_title('Hough transform')\n",
    "ax[1].set_xlabel('Angles (degrees)')\n",
    "ax[1].set_ylabel('Distance (pixels)')\n",
    "ax[1].axis('image')\n",
    "\n",
    "ax[2].imshow(image, cmap=cm.gray)\n",
    "for _, angle, dist in zip(*hough_line_peaks(h, theta, d)):\n",
    "    y0 = (dist - 0 * np.cos(angle)) / np.sin(angle)\n",
    "    y1 = (dist - image.shape[1] * np.cos(angle)) / np.sin(angle)\n",
    "    ax[2].plot((0, image.shape[1]), (y0, y1), '-r')\n",
    "ax[2].set_xlim((0, image.shape[1]))\n",
    "ax[2].set_ylim((image.shape[0], 0))\n",
    "ax[2].set_axis_off()\n",
    "ax[2].set_title('Detected lines')\n",
    "\n",
    "plt.tight_layout()\n",
    "plt.show()\n",
    "\n",
    "# Line finding using the Probabilistic Hough Transform\n",
    "image = data.camera()\n",
    "edges = canny(image, 2, 1, 25)\n",
    "lines = probabilistic_hough_line(edges, threshold=10, line_length=5,\n",
    "                                 line_gap=3)\n",
    "\n",
    "plt.tight_layout()\n",
    "plt.show()\n"
   ]
  }
 ],
 "metadata": {
  "kernelspec": {
   "display_name": "Python 3",
   "language": "python",
   "name": "python3"
  },
  "language_info": {
   "codemirror_mode": {
    "name": "ipython",
    "version": 3
   },
   "file_extension": ".py",
   "mimetype": "text/x-python",
   "name": "python",
   "nbconvert_exporter": "python",
   "pygments_lexer": "ipython3",
   "version": "3.7.3"
  }
 },
 "nbformat": 4,
 "nbformat_minor": 2
}
