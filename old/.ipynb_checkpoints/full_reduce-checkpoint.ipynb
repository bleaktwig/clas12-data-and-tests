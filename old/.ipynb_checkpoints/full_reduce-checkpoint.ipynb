{
 "cells": [
  {
   "cell_type": "code",
   "execution_count": 1,
   "metadata": {},
   "outputs": [],
   "source": [
    "from sympy import *\n",
    "from sympy.vector import Vector\n",
    "import itertools\n",
    "\n",
    "init_printing()"
   ]
  },
  {
   "cell_type": "code",
   "execution_count": null,
   "metadata": {},
   "outputs": [],
   "source": [
    "a, b, c, d, e, f, g, h, i, j, k, l, m, n, o, p = symbols(\"a b c d e f g h i j k l m n o p\")\n",
    "symlist = [a, b, c, d, e, f, g, h, i, j, k, l, m, n, o, p]\n",
    "\n",
    "A5 = Matrix(\n",
    "    [[a,b,c,d,e],\n",
    "     [b,f,g,h,i],\n",
    "     [c,g,j,k,l],\n",
    "     [d,h,k,m,n],\n",
    "     [e,i,l,n,o]]\n",
    ")\n",
    "\n",
    "H = Matrix(\n",
    "    [[1,  p,0,0,0],\n",
    "     [p,p*p,0,0,0],\n",
    "     [0,  0,0,0,0],\n",
    "     [0,  0,0,0,0],\n",
    "     [0,  0,0,0,0]]\n",
    ")\n",
    "(A5.inv() + H).det()"
   ]
  },
  {
   "cell_type": "code",
   "execution_count": null,
   "metadata": {},
   "outputs": [],
   "source": [
    "def full_simplify(expr, symbols_list, find_best):\n",
    "    min_length   = float('inf')\n",
    "    for i in range(len(symbols_list)):\n",
    "        for symbol_subsets in itertools.combinations(symbols_list, i+1):\n",
    "            collect_by = '*'.join(str(symbol) for symbol in symbol_subsets)\n",
    "            expression = collect(expr, collect_by)\n",
    "            length = len(str(expression))\n",
    "            if (find_best):\n",
    "                if length < min_length:\n",
    "                    min_length = length\n",
    "                    print(\"With '%s' (%d):\" % (collect_by, min_length))\n",
    "                    pprint(expression)\n",
    "                    print()\n",
    "            else:\n",
    "                if length <= min_length:\n",
    "                    min_length = length\n",
    "                    print(\"With '%s' (%d):\" % (collect_by, min_length))\n",
    "                    pprint(expression)\n",
    "                    print()"
   ]
  },
  {
   "cell_type": "code",
   "execution_count": null,
   "metadata": {},
   "outputs": [],
   "source": [
    "a, b, c, d, e, f, g, h, i, j, k, l, m, n, o = symbols(\"a b c d e f g h i j k l m n o\")\n",
    "symlist = [a, b, c, d, e, f, g, h, i, j, k, l, m, n, o]\n",
    "\n",
    "\n",
    "A2 = Matrix(\n",
    "    [[a,b],\n",
    "     [b,c]]\n",
    ")\n",
    "\n",
    "A3 = Matrix(\n",
    "    [[a,b,c],\n",
    "     [b,d,e],\n",
    "     [c,e,f]]\n",
    ")\n",
    "\n",
    "A4 = Matrix(\n",
    "    [[a,b,c,d],\n",
    "     [b,e,f,g],\n",
    "     [c,f,h,i],\n",
    "     [d,g,i,j]]\n",
    ")\n",
    "\n",
    "A5 = Matrix(\n",
    "    [[a,b,c,d,e],\n",
    "     [b,f,g,h,i],\n",
    "     [c,g,j,k,l],\n",
    "     [d,h,k,m,n],\n",
    "     [e,i,l,n,o]]\n",
    ")\n",
    "\n",
    "\n",
    "A2det = A2.det()\n",
    "A3det = A3.det()\n",
    "A4det = A4.det()\n",
    "A5det = A5.det()"
   ]
  },
  {
   "cell_type": "code",
   "execution_count": null,
   "metadata": {},
   "outputs": [],
   "source": [
    "full_simplify(A2det, symlist[:2], 1)"
   ]
  },
  {
   "cell_type": "code",
   "execution_count": null,
   "metadata": {},
   "outputs": [],
   "source": [
    "full_simplify(A3det, symlist[:6], 1)"
   ]
  },
  {
   "cell_type": "code",
   "execution_count": null,
   "metadata": {
    "scrolled": true
   },
   "outputs": [],
   "source": [
    "full_simplify(A4det, symlist[:10], 1)"
   ]
  },
  {
   "cell_type": "code",
   "execution_count": null,
   "metadata": {
    "scrolled": true
   },
   "outputs": [],
   "source": [
    "full_simplify(A5det, symlist, 1)"
   ]
  }
 ],
 "metadata": {
  "kernelspec": {
   "display_name": "Python 3",
   "language": "python",
   "name": "python3"
  },
  "language_info": {
   "codemirror_mode": {
    "name": "ipython",
    "version": 3
   },
   "file_extension": ".py",
   "mimetype": "text/x-python",
   "name": "python",
   "nbconvert_exporter": "python",
   "pygments_lexer": "ipython3",
   "version": "3.7.3"
  }
 },
 "nbformat": 4,
 "nbformat_minor": 2
}
