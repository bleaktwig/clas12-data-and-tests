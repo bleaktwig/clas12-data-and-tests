{
 "cells": [
  {
   "cell_type": "code",
   "execution_count": 1,
   "metadata": {},
   "outputs": [],
   "source": [
    "from sympy import *\n",
    "import itertools"
   ]
  },
  {
   "cell_type": "code",
   "execution_count": 2,
   "metadata": {},
   "outputs": [
    {
     "ename": "ValueError",
     "evalue": "Matrix must be Hermitian.",
     "output_type": "error",
     "traceback": [
      "\u001b[0;31m---------------------------------------------------------------------------\u001b[0m",
      "\u001b[0;31mValueError\u001b[0m                                Traceback (most recent call last)",
      "\u001b[0;32m<ipython-input-2-85ae3d98b849>\u001b[0m in \u001b[0;36m<module>\u001b[0;34m\u001b[0m\n\u001b[1;32m      1\u001b[0m \u001b[0ma\u001b[0m\u001b[0;34m,\u001b[0m \u001b[0mb\u001b[0m\u001b[0;34m,\u001b[0m \u001b[0mc\u001b[0m\u001b[0;34m,\u001b[0m \u001b[0md\u001b[0m\u001b[0;34m,\u001b[0m \u001b[0me\u001b[0m\u001b[0;34m,\u001b[0m \u001b[0mf\u001b[0m\u001b[0;34m,\u001b[0m \u001b[0mg\u001b[0m\u001b[0;34m,\u001b[0m \u001b[0mh\u001b[0m\u001b[0;34m,\u001b[0m \u001b[0mi\u001b[0m\u001b[0;34m,\u001b[0m \u001b[0mj\u001b[0m\u001b[0;34m,\u001b[0m \u001b[0mk\u001b[0m\u001b[0;34m,\u001b[0m \u001b[0ml\u001b[0m\u001b[0;34m,\u001b[0m \u001b[0mm\u001b[0m\u001b[0;34m,\u001b[0m \u001b[0mn\u001b[0m\u001b[0;34m,\u001b[0m \u001b[0mo\u001b[0m \u001b[0;34m=\u001b[0m \u001b[0msymbols\u001b[0m\u001b[0;34m(\u001b[0m\u001b[0;34m\"a b c d e f g h i j k l m n o\"\u001b[0m\u001b[0;34m)\u001b[0m\u001b[0;34m\u001b[0m\u001b[0;34m\u001b[0m\u001b[0m\n\u001b[1;32m      2\u001b[0m \u001b[0mM\u001b[0m \u001b[0;34m=\u001b[0m \u001b[0mMatrix\u001b[0m\u001b[0;34m(\u001b[0m\u001b[0;34m[\u001b[0m\u001b[0;34m[\u001b[0m\u001b[0ma\u001b[0m\u001b[0;34m,\u001b[0m\u001b[0mb\u001b[0m\u001b[0;34m,\u001b[0m\u001b[0mc\u001b[0m\u001b[0;34m,\u001b[0m\u001b[0md\u001b[0m\u001b[0;34m,\u001b[0m\u001b[0me\u001b[0m\u001b[0;34m]\u001b[0m\u001b[0;34m,\u001b[0m\u001b[0;34m[\u001b[0m\u001b[0mb\u001b[0m\u001b[0;34m,\u001b[0m\u001b[0mf\u001b[0m\u001b[0;34m,\u001b[0m\u001b[0mg\u001b[0m\u001b[0;34m,\u001b[0m\u001b[0mh\u001b[0m\u001b[0;34m,\u001b[0m\u001b[0mi\u001b[0m\u001b[0;34m]\u001b[0m\u001b[0;34m,\u001b[0m\u001b[0;34m[\u001b[0m\u001b[0mc\u001b[0m\u001b[0;34m,\u001b[0m\u001b[0mg\u001b[0m\u001b[0;34m,\u001b[0m\u001b[0mj\u001b[0m\u001b[0;34m,\u001b[0m\u001b[0mk\u001b[0m\u001b[0;34m,\u001b[0m\u001b[0ml\u001b[0m\u001b[0;34m]\u001b[0m\u001b[0;34m,\u001b[0m\u001b[0;34m[\u001b[0m\u001b[0md\u001b[0m\u001b[0;34m,\u001b[0m\u001b[0mh\u001b[0m\u001b[0;34m,\u001b[0m\u001b[0mk\u001b[0m\u001b[0;34m,\u001b[0m\u001b[0mm\u001b[0m\u001b[0;34m,\u001b[0m\u001b[0mn\u001b[0m\u001b[0;34m]\u001b[0m\u001b[0;34m,\u001b[0m\u001b[0;34m[\u001b[0m\u001b[0me\u001b[0m\u001b[0;34m,\u001b[0m\u001b[0mi\u001b[0m\u001b[0;34m,\u001b[0m\u001b[0ml\u001b[0m\u001b[0;34m,\u001b[0m\u001b[0mn\u001b[0m\u001b[0;34m,\u001b[0m\u001b[0mo\u001b[0m\u001b[0;34m]\u001b[0m\u001b[0;34m]\u001b[0m\u001b[0;34m)\u001b[0m\u001b[0;34m\u001b[0m\u001b[0;34m\u001b[0m\u001b[0m\n\u001b[0;32m----> 3\u001b[0;31m \u001b[0mM\u001b[0m\u001b[0;34m.\u001b[0m\u001b[0mcholesky\u001b[0m\u001b[0;34m(\u001b[0m\u001b[0;34m)\u001b[0m\u001b[0;34m\u001b[0m\u001b[0;34m\u001b[0m\u001b[0m\n\u001b[0m",
      "\u001b[0;32m~/anaconda3/envs/RK4/lib/python3.7/site-packages/sympy/matrices/matrices.py\u001b[0m in \u001b[0;36mcholesky\u001b[0;34m(self)\u001b[0m\n\u001b[1;32m   2323\u001b[0m             \u001b[0;32mraise\u001b[0m \u001b[0mNonSquareMatrixError\u001b[0m\u001b[0;34m(\u001b[0m\u001b[0;34m\"Matrix must be square.\"\u001b[0m\u001b[0;34m)\u001b[0m\u001b[0;34m\u001b[0m\u001b[0;34m\u001b[0m\u001b[0m\n\u001b[1;32m   2324\u001b[0m         \u001b[0;32mif\u001b[0m \u001b[0;32mnot\u001b[0m \u001b[0mself\u001b[0m\u001b[0;34m.\u001b[0m\u001b[0mis_hermitian\u001b[0m\u001b[0;34m:\u001b[0m\u001b[0;34m\u001b[0m\u001b[0;34m\u001b[0m\u001b[0m\n\u001b[0;32m-> 2325\u001b[0;31m             \u001b[0;32mraise\u001b[0m \u001b[0mValueError\u001b[0m\u001b[0;34m(\u001b[0m\u001b[0;34m\"Matrix must be Hermitian.\"\u001b[0m\u001b[0;34m)\u001b[0m\u001b[0;34m\u001b[0m\u001b[0;34m\u001b[0m\u001b[0m\n\u001b[0m\u001b[1;32m   2326\u001b[0m         \u001b[0;32mreturn\u001b[0m \u001b[0mself\u001b[0m\u001b[0;34m.\u001b[0m\u001b[0m_cholesky\u001b[0m\u001b[0;34m(\u001b[0m\u001b[0;34m)\u001b[0m\u001b[0;34m\u001b[0m\u001b[0;34m\u001b[0m\u001b[0m\n\u001b[1;32m   2327\u001b[0m \u001b[0;34m\u001b[0m\u001b[0m\n",
      "\u001b[0;31mValueError\u001b[0m: Matrix must be Hermitian."
     ]
    }
   ],
   "source": [
    "a, b, c, d, e, f, g, h, i, j, k, l, m, n, o = symbols(\"a b c d e f g h i j k l m n o\")\n",
    "M = Matrix([[a,b,c,d,e],[b,f,g,h,i],[c,g,j,k,l],[d,h,k,m,n],[e,i,l,n,o]])\n",
    "M.cholesky()"
   ]
  },
  {
   "cell_type": "code",
   "execution_count": 3,
   "metadata": {},
   "outputs": [],
   "source": [
    "# input:\n",
    "#   * expr:    input expression via a string following this format:\n",
    "#                  \"abc abb bcc\"\n",
    "#              where each character is a variable, characters together represent multiplied variables and a space \n",
    "#              between variables represents an addition or substraction between them. Each operand must be in \n",
    "#              alphabetic order.\n",
    "#   * v_list:  list detailing which variables are to be evaluated when analysing the expression. Must not be longer\n",
    "#              than one character and follow alphabetic order.\n",
    "#   * n_vars:  integer representing the largest grouping of variables in the expression.\n",
    "# output:\n",
    "#   * returns: a dictionary detailing how many times each combination of variables is found in the expression.\n",
    "#\n",
    "# TODO: list all possible groups of precalculated variables in expression in a particular number of variables and\n",
    "#       return only the one with the largest number of matches.\n",
    "def find_precalc_vars(expr, v_list, n_vars):\n",
    "    if n_vars <= 1:\n",
    "        return []\n",
    "    \n",
    "    operands = expr.split()\n",
    "    # separate operand into its permutations if it's larger than n_vars.\n",
    "    for i in range(len(operands)):\n",
    "        operand = operands[i]\n",
    "        if len(operand) > n_vars:\n",
    "            # NOTE: the approach followed here does not consider if an expression can be found twice in an operant\n",
    "            #       e.g: 'ab' in 'aaabbbc' in groupings of two is 'aa', 'ab', 'bb', 'ac', 'bc' even though 'ab' should\n",
    "            #            be considered thrice.\n",
    "            tmp_arr = []\n",
    "            for comb in itertools.combinations(operand, n_vars):\n",
    "                word = ''.join(comb)\n",
    "                if word not in tmp_arr:\n",
    "                    tmp_arr.append(word)\n",
    "            operands.extend(tmp_arr)\n",
    "    # delete operands larger or smaller than n_vars (remember larger ones have already been broken into pieces of\n",
    "    # n_vars size).\n",
    "    operands[:] = [operand for operand in operands if len(operand) == n_vars]\n",
    "\n",
    "    # create and fill the operand dictionary.\n",
    "    oper_dict = {}\n",
    "    for comb in itertools.combinations_with_replacement(v_list, n_vars):\n",
    "        comb = ''.join(comb)\n",
    "        oper_dict[comb] = 0\n",
    "    \n",
    "    # check which operands are found in the expression.\n",
    "    for operand in operands:\n",
    "        for key in oper_dict.keys():\n",
    "            if key == operand:\n",
    "                oper_dict[key] += 1\n",
    "    \n",
    "    # delete operands with one or zero matches and sort dictionary.\n",
    "    for key in list(oper_dict.keys()):\n",
    "        if oper_dict[key] <= 1:\n",
    "            del(oper_dict[key])\n",
    "    \n",
    "    # transform dictionary into a list of tuples and sort this list by matches found.\n",
    "    oper_tuple = sorted(oper_dict.items(), key=lambda kv: -kv[1])\n",
    "    return oper_tuple + find_precalc_vars(expr, v_list, n_vars-1)"
   ]
  },
  {
   "cell_type": "code",
   "execution_count": 4,
   "metadata": {},
   "outputs": [
    {
     "data": {
      "text/plain": [
       "[('abc', 2), ('bc', 5), ('ab', 3), ('ac', 2), ('bb', 2)]"
      ]
     },
     "execution_count": 4,
     "metadata": {},
     "output_type": "execute_result"
    }
   ],
   "source": [
    "# Test\n",
    "find_precalc_vars(\"a b c ab bc  bcc   abc bbc bbb abc\", ['a', 'b', 'c'], 3)"
   ]
  },
  {
   "cell_type": "code",
   "execution_count": 5,
   "metadata": {
    "scrolled": true
   },
   "outputs": [
    {
     "data": {
      "text/plain": [
       "[('afgi', 2),\n",
       " ('bcfj', 2),\n",
       " ('bcgi', 2),\n",
       " ('bdfi', 2),\n",
       " ('bdgh', 2),\n",
       " ('cdei', 2),\n",
       " ('cdfg', 2),\n",
       " ('afg', 2),\n",
       " ('afi', 2),\n",
       " ('agi', 2),\n",
       " ('bcf', 2),\n",
       " ('bcg', 2),\n",
       " ('bci', 2),\n",
       " ('bcj', 2),\n",
       " ('bdf', 2),\n",
       " ('bdg', 2),\n",
       " ('bdh', 2),\n",
       " ('bdi', 2),\n",
       " ('bfi', 2),\n",
       " ('bfj', 2),\n",
       " ('bgh', 2),\n",
       " ('bgi', 2),\n",
       " ('cde', 2),\n",
       " ('cdf', 2),\n",
       " ('cdg', 2),\n",
       " ('cdi', 2),\n",
       " ('cei', 2),\n",
       " ('cfg', 2),\n",
       " ('cfj', 2),\n",
       " ('cgi', 2),\n",
       " ('dei', 2),\n",
       " ('dfg', 2),\n",
       " ('dfi', 2),\n",
       " ('dgh', 2),\n",
       " ('fgi', 2),\n",
       " ('bi', 5),\n",
       " ('cg', 5),\n",
       " ('df', 5),\n",
       " ('bc', 4),\n",
       " ('bd', 4),\n",
       " ('bf', 4),\n",
       " ('bg', 4),\n",
       " ('cd', 4),\n",
       " ('cf', 4),\n",
       " ('ci', 4),\n",
       " ('dg', 4),\n",
       " ('di', 4),\n",
       " ('fg', 4),\n",
       " ('fi', 4),\n",
       " ('gi', 4),\n",
       " ('af', 3),\n",
       " ('ag', 3),\n",
       " ('ai', 3),\n",
       " ('bh', 3),\n",
       " ('bj', 3),\n",
       " ('ce', 3),\n",
       " ('cj', 3),\n",
       " ('de', 3),\n",
       " ('dh', 3),\n",
       " ('ei', 3),\n",
       " ('fj', 3),\n",
       " ('gh', 3),\n",
       " ('ae', 2),\n",
       " ('ah', 2),\n",
       " ('aj', 2),\n",
       " ('bb', 2),\n",
       " ('cc', 2),\n",
       " ('dd', 2),\n",
       " ('eh', 2),\n",
       " ('ej', 2),\n",
       " ('ff', 2),\n",
       " ('gg', 2),\n",
       " ('hj', 2),\n",
       " ('ii', 2)]"
      ]
     },
     "execution_count": 5,
     "metadata": {},
     "output_type": "execute_result"
    }
   ],
   "source": [
    "# Determinant of a 4x4 symmetric matrix\n",
    "find_precalc_vars(\"aehj aeii affj afgi afgi aggh bbhj bbii bcfj bdfi bcgi bdgh bcfj bcgi ccej cdei ccgg cdfg bdfi bdgh cdei ddeh cdfg ddff\", ['a','b','c','d','e','f','g','h','i','j'], 4)"
   ]
  },
  {
   "cell_type": "code",
   "execution_count": 6,
   "metadata": {},
   "outputs": [
    {
     "name": "stdout",
     "output_type": "stream",
     "text": [
      "a*f*j*m*o - a*f*j*n**2 - a*f*k**2*o + 2*a*f*k*l*n - a*f*l**2*m - a*g**2*m*o + a*g**2*n**2 + 2*a*g*h*k*o - 2*a*g*h*l*n - 2*a*g*i*k*n + 2*a*g*i*l*m - a*h**2*j*o + a*h**2*l**2 + 2*a*h*i*j*n - 2*a*h*i*k*l - a*i**2*j*m + a*i**2*k**2 - b**2*j*m*o + b**2*j*n**2 + b**2*k**2*o - 2*b**2*k*l*n + b**2*l**2*m + 2*b*c*g*m*o - 2*b*c*g*n**2 - 2*b*c*h*k*o + 2*b*c*h*l*n + 2*b*c*i*k*n - 2*b*c*i*l*m - 2*b*d*g*k*o + 2*b*d*g*l*n + 2*b*d*h*j*o - 2*b*d*h*l**2 - 2*b*d*i*j*n + 2*b*d*i*k*l + 2*b*e*g*k*n - 2*b*e*g*l*m - 2*b*e*h*j*n + 2*b*e*h*k*l + 2*b*e*i*j*m - 2*b*e*i*k**2 - c**2*f*m*o + c**2*f*n**2 + c**2*h**2*o - 2*c**2*h*i*n + c**2*i**2*m + 2*c*d*f*k*o - 2*c*d*f*l*n - 2*c*d*g*h*o + 2*c*d*g*i*n + 2*c*d*h*i*l - 2*c*d*i**2*k - 2*c*e*f*k*n + 2*c*e*f*l*m + 2*c*e*g*h*n - 2*c*e*g*i*m - 2*c*e*h**2*l + 2*c*e*h*i*k - d**2*f*j*o + d**2*f*l**2 + d**2*g**2*o - 2*d**2*g*i*l + d**2*i**2*j + 2*d*e*f*j*n - 2*d*e*f*k*l - 2*d*e*g**2*n + 2*d*e*g*h*l + 2*d*e*g*i*k - 2*d*e*h*i*j - e**2*f*j*m + e**2*f*k**2 + e**2*g**2*m - 2*e**2*g*h*k + e**2*h**2*j\n"
     ]
    }
   ],
   "source": [
    "# Finding and printing the determinant of a 5x5 symmetric matrix\n",
    "a, b, c, d, e, f, g, h, i, j, k, l, m, n, o = symbols(\"a b c d e f g h i j k l m n o\")\n",
    "symlist = [a, b, c, d, e, f, g, h, i, j, k, l, m, n, o]\n",
    "A5 = Matrix(\n",
    "    [[a,b,c,d,e],\n",
    "     [b,f,g,h,i],\n",
    "     [c,g,j,k,l],\n",
    "     [d,h,k,m,n],\n",
    "     [e,i,l,n,o]]\n",
    ")\n",
    "\n",
    "A5det = A5.det()\n",
    "print(A5det)"
   ]
  },
  {
   "cell_type": "code",
   "execution_count": 20,
   "metadata": {},
   "outputs": [
    {
     "data": {
      "text/plain": [
       "[('ah', 2),\n",
       " ('bo', 2),\n",
       " ('co', 2),\n",
       " ('do', 2),\n",
       " ('eg', 2),\n",
       " ('ei', 2),\n",
       " ('fj', 2),\n",
       " ('fl', 2),\n",
       " ('fo', 2),\n",
       " ('gi', 2),\n",
       " ('hk', 2),\n",
       " ('jn', 2),\n",
       " ('ll', 2)]"
      ]
     },
     "execution_count": 20,
     "metadata": {},
     "output_type": "execute_result"
    }
   ],
   "source": [
    "# Determinant of a 5x5 matrix\n",
    "det  = \"o jnn kko kln llm a  ahk \"\n",
    "det += \"  l aho a n a i \"\n",
    "det += \"a bbo bn  n  b  \"\n",
    "det += \"    dg  bdo  \"\n",
    "det += \"di   eg eh  bei  \"\n",
    "det += \"cfo cn o n i cdo dl d \"\n",
    "det += \"   ek efl  egi  \"\n",
    "det += \" fjo fll g gil iij fjn l \"\n",
    "det += \"   i f k g ghk \"\n",
    "det += \"h\"\n",
    "c_list = ['a','b','c','d','e','f','g','h','i','j','k','l','m','n','o']\n",
    "find_precalc_vars(det, c_list, 2)"
   ]
  }
 ],
 "metadata": {
  "kernelspec": {
   "display_name": "Python 3",
   "language": "python",
   "name": "python3"
  },
  "language_info": {
   "codemirror_mode": {
    "name": "ipython",
    "version": 3
   },
   "file_extension": ".py",
   "mimetype": "text/x-python",
   "name": "python",
   "nbconvert_exporter": "python",
   "pygments_lexer": "ipython3",
   "version": "3.7.3"
  }
 },
 "nbformat": 4,
 "nbformat_minor": 2
}
