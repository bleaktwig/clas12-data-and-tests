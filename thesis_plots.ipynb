{
 "cells": [
  {
   "cell_type": "code",
   "execution_count": 1,
   "metadata": {},
   "outputs": [],
   "source": [
    "import numpy as np\n",
    "from mpl_toolkits.mplot3d import Axes3D\n",
    "import matplotlib\n",
    "import matplotlib.pyplot as plt\n",
    "\n",
    "np.set_printoptions(formatter={'float': '{: 0.5f}'.format}, suppress = True)\n",
    "matplotlib.rcParams.update({'font.size': 12})"
   ]
  },
  {
   "cell_type": "markdown",
   "metadata": {},
   "source": [
    "# Setup"
   ]
  },
  {
   "cell_type": "code",
   "execution_count": 2,
   "metadata": {},
   "outputs": [],
   "source": [
    "loglogalpha = 0.70\n",
    "baralpha    = 0.85\n",
    "\n",
    "plot_size = (14,8)\n",
    "colors = [\"#324F61\", \"#286F74\", \"#348F79\", \"#62AD70\", \"#A3C663\", \"#EFD85F\",]"
   ]
  },
  {
   "cell_type": "markdown",
   "metadata": {},
   "source": [
    "# File Reading"
   ]
  },
  {
   "cell_type": "code",
   "execution_count": 3,
   "metadata": {},
   "outputs": [],
   "source": [
    "# Read a file containing one array\n",
    "def read_file(filename, timeframe=\"ns\"):\n",
    "    arr = []\n",
    "    f = open(filename, \"r\")\n",
    "\n",
    "    for line in f:\n",
    "        meas = float(line.replace(\"\\n\", \"\"))\n",
    "        if timeframe == \"ns\": \n",
    "            arr.append(meas/1000000)\n",
    "        if timeframe == \"ms\":\n",
    "            arr.append(meas)\n",
    "    \n",
    "    return np.array(arr)"
   ]
  },
  {
   "cell_type": "markdown",
   "metadata": {},
   "source": [
    "# Plots"
   ]
  },
  {
   "cell_type": "code",
   "execution_count": 4,
   "metadata": {},
   "outputs": [],
   "source": [
    "def loglogplot(x, y, xlabel, ylabel):\n",
    "    fig, ax = plt.subplots()\n",
    "    fig.set_size_inches(plot_size)\n",
    "    \n",
    "    ax.loglog(x, y, '.', alpha=loglogalpha, color=colors[3])\n",
    "\n",
    "    plt.xlabel(xlabel)\n",
    "    plt.ylabel(ylabel)\n",
    "    \n",
    "    ax.spines['top'].set_visible(False)\n",
    "    ax.spines['right'].set_visible(False)\n",
    "    \n",
    "    ax.grid(color='grey', linestyle='-', linewidth=0.25, alpha=0.5)\n",
    "    \n",
    "    plt.show()\n",
    "\n",
    "def boxplot(x, labels, ylabel, title, showfliers=True, yscale=\"log\"):\n",
    "    fig, ax = plt.subplots()\n",
    "\n",
    "    plt.ylabel(ylabel)\n",
    "    plt.title(title)\n",
    "    \n",
    "    fig.set_size_inches(plot_size)\n",
    "    plt.yscale(yscale)\n",
    "    \n",
    "    ax.spines['top'].set_visible(False)\n",
    "    ax.spines['right'].set_visible(False)\n",
    "    ax.grid(color='grey', linestyle='-', linewidth=0.25, alpha=0.5)\n",
    "    \n",
    "    ax.boxplot(x, labels=labels, notch=True, showfliers=showfliers)\n",
    "\n",
    "def violinplot(x, yscale=\"log\"): # TODO: Maybe check out how to remove the outliers or try seaborn\n",
    "    fig, ax = plt.subplots()\n",
    "    \n",
    "    fig.set_size_inches(plot_size)\n",
    "    plt.yscale(yscale)\n",
    "    \n",
    "    ax.spines['top'].set_visible(False)\n",
    "    ax.spines['right'].set_visible(False)\n",
    "    ax.grid(color='grey', linestyle='-', linewidth=0.25, alpha=0.5)\n",
    "    \n",
    "    ax.violinplot(x)\n",
    "\n",
    "def hbtbplot(hb_t, tb_t, names, i_color=0):\n",
    "    fig, ax = plt.subplots()\n",
    "    \n",
    "    fig.set_size_inches(plot_size)\n",
    "    index = np.arange(len(names))\n",
    "    bar_width = 0.35\n",
    "\n",
    "    if i_color >= 4:\n",
    "        i_color = 0\n",
    "\n",
    "    rectsHB = plt.bar(index, hb_t, bar_width, alpha=baralpha, color=colors[i_color], label=\"DCHB\")\n",
    "    rectsTB = plt.bar(index + bar_width, tb_t, bar_width, alpha=baralpha, color=colors[i_color+2], label=\"DCTB\")\n",
    "\n",
    "    plt.xlabel(\"Engine\")\n",
    "    plt.ylabel(\"Total time\")\n",
    "    plt.title(\"Engines times\")\n",
    "    plt.xticks(index + bar_width/2, names)\n",
    "    plt.legend()\n",
    "\n",
    "    ax.spines['top'].set_visible(False)\n",
    "    ax.spines['right'].set_visible(False)\n",
    "    ax.grid(color='grey', linestyle='-', linewidth=0.25, alpha=0.5)\n",
    "\n",
    "    plt.tight_layout()\n",
    "    plt.show()"
   ]
  },
  {
   "cell_type": "markdown",
   "metadata": {},
   "source": [
    "# Determinant of the Covariance Matrix Computation Time "
   ]
  },
  {
   "cell_type": "code",
   "execution_count": 5,
   "metadata": {
    "scrolled": false
   },
   "outputs": [
    {
     "data": {
      "image/png": "[encoded data removed]",
      "text/plain": [
       "<Figure size 1008x576 with 1 Axes>"
      ]
     },
     "metadata": {
      "needs_background": "light"
     },
     "output_type": "display_data"
    }
   ],
   "source": [
    "file_names = [\"m001\", \"m002\", \"m003\", \"m004\", \"m005\", \"m006\", \"m007\", \"m008\", \"m009\", \"m010\", \n",
    "              \"m020\", \"m030\", \"m040\", \"m050\", \"m060\", \"m070\", \"m080\", \"m090\", \"m100\"]\n",
    "labels = [\"n=1\",  \"n=2\",  \"n=3\",  \"n=4\",  \"n=5\",  \"n=6\",  \"n=7\",  \"n=8\",  \"n=9\", \"n=10\", \n",
    "          \"n=20\", \"n=30\", \"n=40\", \"n=50\", \"n=60\", \"n=70\", \"n=80\", \"n=90\", \"n=100\"]\n",
    "\n",
    "org_arr = []\n",
    "for file_name in [\"org_det_ss-10e5/\" + s + \".txt\" for s in file_names]:\n",
    "    org_arr.append(read_file(file_name))\n",
    "\n",
    "cho_arr = []\n",
    "for file_name in [\"cho_det_ss-10e5/\" + s + \".txt\" for s in file_names]:\n",
    "    cho_arr.append(read_file(file_name))\n",
    "\n",
    "f_arr = []\n",
    "for file_name in [\"f_det_ss-10e5/\" + s + \".txt\" for s in file_names]:\n",
    "    f_arr.append(read_file(file_name))\n",
    "\n",
    "ylabel = \"time [ms]\"\n",
    "\n",
    "# title = \"Determinant calculation of a nxn matrix through direct calculation\"\n",
    "# boxplot(org_arr,      labels,      ylabel, title, showfliers=True,  yscale=\"log\")\n",
    "# boxplot(org_arr[:10], labels[:10], ylabel, title, showfliers=False, yscale=\"log\")\n",
    "# boxplot(org_arr[9:],  labels[9:],  ylabel, title, showfliers=False, yscale=\"log\")\n",
    "\n",
    "# title = \"Determinant calculation of a nxn matrix through the Cholesky decomposition\"\n",
    "# boxplot(cho_arr,      labels,      ylabel, title, showfliers=True,  yscale=\"log\")\n",
    "# boxplot(cho_arr[:10], labels[:10], ylabel, title, showfliers=False, yscale=\"log\")\n",
    "# boxplot(cho_arr[9:],  labels[9:],  ylabel, title, showfliers=False, yscale=\"log\")\n",
    "\n",
    "# title = \"Determinant calculation of a nxn matrix through the Ching-Feng formula\"\n",
    "# boxplot(f_arr,      labels,      ylabel, title, showfliers=True,  yscale=\"log\")\n",
    "# boxplot(f_arr[:10], labels[:10], ylabel, title, showfliers=False, yscale=\"log\")\n",
    "# boxplot(f_arr[9:],  labels[9:],  ylabel, title, showfliers=False, yscale=\"log\")\n",
    "\n",
    "title = \"Determinant calculation time comparison (5x5 matrix)\"\n",
    "boxplot([org_arr[4], cho_arr[4], f_arr[4]], [\"direct\", \"Cholesky\", \"Ching-Feng\"], ylabel, title, showfliers=False, yscale=\"log\")"
   ]
  },
  {
   "cell_type": "markdown",
   "metadata": {},
   "source": [
    "# Engine Times\n",
    "\n",
    "Version:\n",
    "* v1.0: Original JLab version\n",
    "* v1.1: Refactored and micro-optimized\n",
    "* v1.2: Sherman-Morrison formula implementated\n",
    "* v1.3: Cholesky decomposition implemented\n",
    "* v1.4.1: Multithreaded track finding\n",
    "* v1.4.2: Multithreaded cluster finding\n",
    "* v1.5: Current status"
   ]
  },
  {
   "cell_type": "code",
   "execution_count": 6,
   "metadata": {
    "scrolled": false
   },
   "outputs": [
    {
     "data": {
      "image/png": "[encoded data removed]",
      "text/plain": [
       "<Figure size 1008x576 with 1 Axes>"
      ]
     },
     "metadata": {
      "needs_background": "light"
     },
     "output_type": "display_data"
    },
    {
     "data": {
      "image/png": "[encoded data removed]",
      "text/plain": [
       "<Figure size 1008x576 with 1 Axes>"
      ]
     },
     "metadata": {
      "needs_background": "light"
     },
     "output_type": "display_data"
    }
   ],
   "source": [
    "versions = [\"1.0\", \"1.1\", \"1.2\", \"1.3\", \"1.4.1\", \"1.4.2\", \"1.5\"]\n",
    "hb_t     = np.array([189.75, 133.52, 120.02, 114.80, 78.66, 94.27, 51.18]) # UPDATE\n",
    "tb_t     = np.array([ 58.18,  56.24,  48.78,  48.78, 48.78, 48.78, 48.78]) # UPDATE\n",
    "\n",
    "# TODO: Start with this plot in my thesis when comparing versions\n",
    "hbtbplot(hb_t/hb_t[0], tb_t/tb_t[0], versions, i_color=0)\n",
    "hbtbplot(hb_t, tb_t, versions, i_color=0)"
   ]
  },
  {
   "cell_type": "code",
   "execution_count": null,
   "metadata": {},
   "outputs": [],
   "source": []
  }
 ],
 "metadata": {
  "kernelspec": {
   "display_name": "Python 3",
   "language": "python",
   "name": "python3"
  },
  "language_info": {
   "codemirror_mode": {
    "name": "ipython",
    "version": 3
   },
   "file_extension": ".py",
   "mimetype": "text/x-python",
   "name": "python",
   "nbconvert_exporter": "python",
   "pygments_lexer": "ipython3",
   "version": "3.7.3"
  }
 },
 "nbformat": 4,
 "nbformat_minor": 2
}
