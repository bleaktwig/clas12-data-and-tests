{
 "cells": [
  {
   "cell_type": "code",
   "execution_count": null,
   "metadata": {},
   "outputs": [],
   "source": [
    "from sympy import *\n",
    "import itertools\n",
    "\n",
    "init_printing()"
   ]
  },
  {
   "cell_type": "code",
   "execution_count": 2,
   "metadata": {},
   "outputs": [],
   "source": [
    "def full_simplify(expr, symbols_list, find_best):\n",
    "    min_length   = float('inf')\n",
    "    for i in range(len(symbols_list)):\n",
    "        for symbol_subsets in itertools.combinations(symbols_list, i+1):\n",
    "            collect_by = '*'.join(str(symbol) for symbol in symbol_subsets)\n",
    "            expression = collect(expr, collect_by)\n",
    "            length = len(str(expression))\n",
    "            if (find_best):\n",
    "                if length < min_length:\n",
    "                    min_length = length\n",
    "                    print(\"With '%s' (%d):\" % (collect_by, min_length))\n",
    "                    pprint(expression)\n",
    "                    print()\n",
    "            else:\n",
    "                if length <= min_length:\n",
    "                    min_length = length\n",
    "                    print(\"With '%s' (%d):\" % (collect_by, min_length))\n",
    "                    pprint(expression)\n",
    "                    print()"
   ]
  },
  {
   "cell_type": "code",
   "execution_count": 3,
   "metadata": {},
   "outputs": [],
   "source": [
    "a, b, c, d, e, f, g, h, i, j, k, l, m, n, o = symbols(\"a b c d e f g h i j k l m n o\")\n",
    "symlist = [a, b, c, d, e, f, g, h, i, j, k, l, m, n, o]\n",
    "\n",
    "\n",
    "A2 = Matrix(\n",
    "    [[a,b],\n",
    "     [b,c]]\n",
    ")\n",
    "\n",
    "A3 = Matrix(\n",
    "    [[a,b,c],\n",
    "     [b,d,e],\n",
    "     [c,e,f]]\n",
    ")\n",
    "\n",
    "A4 = Matrix(\n",
    "    [[a,b,c,d],\n",
    "     [b,e,f,g],\n",
    "     [c,f,h,i],\n",
    "     [d,g,i,j]]\n",
    ")\n",
    "\n",
    "A5 = Matrix(\n",
    "    [[a,b,c,d,e],\n",
    "     [b,f,g,h,i],\n",
    "     [c,g,j,k,l],\n",
    "     [d,h,k,m,n],\n",
    "     [e,i,l,n,o]]\n",
    ")\n",
    "\n",
    "\n",
    "A2det = A2.det()\n",
    "A3det = A3.det()\n",
    "A4det = A4.det()\n",
    "A5det = A5.det()"
   ]
  },
  {
   "cell_type": "code",
   "execution_count": 5,
   "metadata": {},
   "outputs": [
    {
     "name": "stdout",
     "output_type": "stream",
     "text": [
      "With 'a' (10):\n",
      "       2\n",
      "a⋅c - b \n",
      "\n"
     ]
    }
   ],
   "source": [
    "full_simplify(A2det, symlist[:2], 1)"
   ]
  },
  {
   "cell_type": "code",
   "execution_count": 6,
   "metadata": {},
   "outputs": [
    {
     "name": "stdout",
     "output_type": "stream",
     "text": [
      "With 'a' (42):\n",
      "  ⎛       2⎞    2                2  \n",
      "a⋅⎝d⋅f - e ⎠ - b ⋅f + 2⋅b⋅c⋅e - c ⋅d\n",
      "\n"
     ]
    }
   ],
   "source": [
    "full_simplify(A3det, symlist[:6], 1)"
   ]
  },
  {
   "cell_type": "code",
   "execution_count": 7,
   "metadata": {
    "scrolled": true
   },
   "outputs": [
    {
     "name": "stdout",
     "output_type": "stream",
     "text": [
      "With 'a' (187):\n",
      "  ⎛           2    2                2  ⎞    2        2  2                     \n",
      "a⋅⎝e⋅h⋅j - e⋅i  - f ⋅j + 2⋅f⋅g⋅i - g ⋅h⎠ - b ⋅h⋅j + b ⋅i  + 2⋅b⋅c⋅f⋅j - 2⋅b⋅c⋅\n",
      "\n",
      "                               2        2  2                            2     \n",
      "g⋅i - 2⋅b⋅d⋅f⋅i + 2⋅b⋅d⋅g⋅h - c ⋅e⋅j + c ⋅g  + 2⋅c⋅d⋅e⋅i - 2⋅c⋅d⋅f⋅g - d ⋅e⋅h \n",
      "\n",
      "   2  2\n",
      "+ d ⋅f \n",
      "\n"
     ]
    }
   ],
   "source": [
    "full_simplify(A4det, symlist[:10], 1)"
   ]
  },
  {
   "cell_type": "code",
   "execution_count": 8,
   "metadata": {
    "scrolled": true
   },
   "outputs": [
    {
     "name": "stdout",
     "output_type": "stream",
     "text": [
      "With 'a' (987):\n",
      "  ⎛               2      2                    2      2        2  2            \n",
      "a⋅⎝f⋅j⋅m⋅o - f⋅j⋅n  - f⋅k ⋅o + 2⋅f⋅k⋅l⋅n - f⋅l ⋅m - g ⋅m⋅o + g ⋅n  + 2⋅g⋅h⋅k⋅o\n",
      "\n",
      "                                        2        2  2                         \n",
      " - 2⋅g⋅h⋅l⋅n - 2⋅g⋅i⋅k⋅n + 2⋅g⋅i⋅l⋅m - h ⋅j⋅o + h ⋅l  + 2⋅h⋅i⋅j⋅n - 2⋅h⋅i⋅k⋅l \n",
      "\n",
      "   2        2  2⎞    2          2    2    2  2        2          2  2         \n",
      "- i ⋅j⋅m + i ⋅k ⎠ - b ⋅j⋅m⋅o + b ⋅j⋅n  + b ⋅k ⋅o - 2⋅b ⋅k⋅l⋅n + b ⋅l ⋅m + 2⋅b⋅\n",
      "\n",
      "                   2                                                          \n",
      "c⋅g⋅m⋅o - 2⋅b⋅c⋅g⋅n  - 2⋅b⋅c⋅h⋅k⋅o + 2⋅b⋅c⋅h⋅l⋅n + 2⋅b⋅c⋅i⋅k⋅n - 2⋅b⋅c⋅i⋅l⋅m -\n",
      "\n",
      "                                                    2                         \n",
      " 2⋅b⋅d⋅g⋅k⋅o + 2⋅b⋅d⋅g⋅l⋅n + 2⋅b⋅d⋅h⋅j⋅o - 2⋅b⋅d⋅h⋅l  - 2⋅b⋅d⋅i⋅j⋅n + 2⋅b⋅d⋅i⋅\n",
      "\n",
      "                                                                              \n",
      "k⋅l + 2⋅b⋅e⋅g⋅k⋅n - 2⋅b⋅e⋅g⋅l⋅m - 2⋅b⋅e⋅h⋅j⋅n + 2⋅b⋅e⋅h⋅k⋅l + 2⋅b⋅e⋅i⋅j⋅m - 2⋅\n",
      "\n",
      "       2    2          2    2    2  2        2          2  2                  \n",
      "b⋅e⋅i⋅k  - c ⋅f⋅m⋅o + c ⋅f⋅n  + c ⋅h ⋅o - 2⋅c ⋅h⋅i⋅n + c ⋅i ⋅m + 2⋅c⋅d⋅f⋅k⋅o -\n",
      "\n",
      "                                                                2             \n",
      " 2⋅c⋅d⋅f⋅l⋅n - 2⋅c⋅d⋅g⋅h⋅o + 2⋅c⋅d⋅g⋅i⋅n + 2⋅c⋅d⋅h⋅i⋅l - 2⋅c⋅d⋅i ⋅k - 2⋅c⋅e⋅f⋅\n",
      "\n",
      "                                                       2                    2 \n",
      "k⋅n + 2⋅c⋅e⋅f⋅l⋅m + 2⋅c⋅e⋅g⋅h⋅n - 2⋅c⋅e⋅g⋅i⋅m - 2⋅c⋅e⋅h ⋅l + 2⋅c⋅e⋅h⋅i⋅k - d ⋅\n",
      "\n",
      "         2    2    2  2        2          2  2                                \n",
      "f⋅j⋅o + d ⋅f⋅l  + d ⋅g ⋅o - 2⋅d ⋅g⋅i⋅l + d ⋅i ⋅j + 2⋅d⋅e⋅f⋅j⋅n - 2⋅d⋅e⋅f⋅k⋅l -\n",
      "\n",
      "        2                                                2          2    2    \n",
      " 2⋅d⋅e⋅g ⋅n + 2⋅d⋅e⋅g⋅h⋅l + 2⋅d⋅e⋅g⋅i⋅k - 2⋅d⋅e⋅h⋅i⋅j - e ⋅f⋅j⋅m + e ⋅f⋅k  + e\n",
      "\n",
      "2  2        2          2  2  \n",
      " ⋅g ⋅m - 2⋅e ⋅g⋅h⋅k + e ⋅h ⋅j\n",
      "\n",
      "With 'b' (968):\n",
      "                   2        2                        2        2          2  2 \n",
      "a⋅f⋅j⋅m⋅o - a⋅f⋅j⋅n  - a⋅f⋅k ⋅o + 2⋅a⋅f⋅k⋅l⋅n - a⋅f⋅l ⋅m - a⋅g ⋅m⋅o + a⋅g ⋅n  \n",
      "\n",
      "                                                             2          2  2  \n",
      "+ 2⋅a⋅g⋅h⋅k⋅o - 2⋅a⋅g⋅h⋅l⋅n - 2⋅a⋅g⋅i⋅k⋅n + 2⋅a⋅g⋅i⋅l⋅m - a⋅h ⋅j⋅o + a⋅h ⋅l  +\n",
      "\n",
      "                                2          2  2    2 ⎛            2    2      \n",
      " 2⋅a⋅h⋅i⋅j⋅n - 2⋅a⋅h⋅i⋅k⋅l - a⋅i ⋅j⋅m + a⋅i ⋅k  + b ⋅⎝-j⋅m⋅o + j⋅n  + k ⋅o - 2\n",
      "\n",
      "          2  ⎞     ⎛                   2                                      \n",
      "⋅k⋅l⋅n + l ⋅m⎠ + b⋅⎝2⋅c⋅g⋅m⋅o - 2⋅c⋅g⋅n  - 2⋅c⋅h⋅k⋅o + 2⋅c⋅h⋅l⋅n + 2⋅c⋅i⋅k⋅n -\n",
      "\n",
      "                                                        2                     \n",
      " 2⋅c⋅i⋅l⋅m - 2⋅d⋅g⋅k⋅o + 2⋅d⋅g⋅l⋅n + 2⋅d⋅h⋅j⋅o - 2⋅d⋅h⋅l  - 2⋅d⋅i⋅j⋅n + 2⋅d⋅i⋅\n",
      "\n",
      "                                                                         2⎞   \n",
      "k⋅l + 2⋅e⋅g⋅k⋅n - 2⋅e⋅g⋅l⋅m - 2⋅e⋅h⋅j⋅n + 2⋅e⋅h⋅k⋅l + 2⋅e⋅i⋅j⋅m - 2⋅e⋅i⋅k ⎠ - \n",
      "\n",
      " 2          2    2    2  2        2          2  2                             \n",
      "c ⋅f⋅m⋅o + c ⋅f⋅n  + c ⋅h ⋅o - 2⋅c ⋅h⋅i⋅n + c ⋅i ⋅m + 2⋅c⋅d⋅f⋅k⋅o - 2⋅c⋅d⋅f⋅l⋅\n",
      "\n",
      "                                                     2                        \n",
      "n - 2⋅c⋅d⋅g⋅h⋅o + 2⋅c⋅d⋅g⋅i⋅n + 2⋅c⋅d⋅h⋅i⋅l - 2⋅c⋅d⋅i ⋅k - 2⋅c⋅e⋅f⋅k⋅n + 2⋅c⋅e\n",
      "\n",
      "                                            2                    2          2 \n",
      "⋅f⋅l⋅m + 2⋅c⋅e⋅g⋅h⋅n - 2⋅c⋅e⋅g⋅i⋅m - 2⋅c⋅e⋅h ⋅l + 2⋅c⋅e⋅h⋅i⋅k - d ⋅f⋅j⋅o + d ⋅\n",
      "\n",
      "   2    2  2        2          2  2                                        2  \n",
      "f⋅l  + d ⋅g ⋅o - 2⋅d ⋅g⋅i⋅l + d ⋅i ⋅j + 2⋅d⋅e⋅f⋅j⋅n - 2⋅d⋅e⋅f⋅k⋅l - 2⋅d⋅e⋅g ⋅n\n",
      "\n",
      "                                              2          2    2    2  2       \n",
      " + 2⋅d⋅e⋅g⋅h⋅l + 2⋅d⋅e⋅g⋅i⋅k - 2⋅d⋅e⋅h⋅i⋅j - e ⋅f⋅j⋅m + e ⋅f⋅k  + e ⋅g ⋅m - 2⋅\n",
      "\n",
      " 2          2  2  \n",
      "e ⋅g⋅h⋅k + e ⋅h ⋅j\n",
      "\n"
     ]
    }
   ],
   "source": [
    "full_simplify(A5det, symlist, 1)"
   ]
  }
 ],
 "metadata": {
  "kernelspec": {
   "display_name": "Python 3",
   "language": "python",
   "name": "python3"
  },
  "language_info": {
   "codemirror_mode": {
    "name": "ipython",
    "version": 3
   },
   "file_extension": ".py",
   "mimetype": "text/x-python",
   "name": "python",
   "nbconvert_exporter": "python",
   "pygments_lexer": "ipython3",
   "version": "3.7.3"
  }
 },
 "nbformat": 4,
 "nbformat_minor": 2
}
