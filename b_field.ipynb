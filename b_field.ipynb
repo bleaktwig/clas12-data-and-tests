{
 "cells": [
  {
   "cell_type": "markdown",
   "metadata": {},
   "source": [
    "# Setup"
   ]
  },
  {
   "cell_type": "code",
   "execution_count": 16,
   "metadata": {},
   "outputs": [],
   "source": [
    "import numpy as np\n",
    "np.set_printoptions(formatter={'float': '{: 0.5f}'.format}, suppress = True)\n",
    "\n",
    "from scipy.interpolate import RegularGridInterpolator\n",
    "\n",
    "from mpl_toolkits.mplot3d import Axes3D\n",
    "import matplotlib.pyplot as plt\n",
    "%matplotlib notebook\n",
    "\n",
    "MAGFIELDFILENAME1 = \"magfields/bfield_old.txt\"\n",
    "MAGFIELDFILENAME2 = \"magfields/bfield.txt\""
   ]
  },
  {
   "cell_type": "code",
   "execution_count": 17,
   "metadata": {},
   "outputs": [],
   "source": [
    "# For some reason this commands needs to be read twice to actually work\n",
    "%matplotlib notebook"
   ]
  },
  {
   "cell_type": "markdown",
   "metadata": {},
   "source": [
    "# File reading"
   ]
  },
  {
   "cell_type": "code",
   "execution_count": 18,
   "metadata": {},
   "outputs": [],
   "source": [
    "def unpack_magfield_file(filename):\n",
    "    B = [[], [], [], [], [], []]\n",
    "    f = open(filename, \"r\")\n",
    "    \n",
    "    for line in f:\n",
    "        mag_meas = line.replace(\"\\n\", \"\").split(' ')\n",
    "        for i in range(len(mag_meas)):\n",
    "            mag_meas[i] = float(mag_meas[i])\n",
    "        if mag_meas[0] not in B[0]:\n",
    "            B[0].append(mag_meas[0])\n",
    "        if mag_meas[1] not in B[1]:\n",
    "            B[1].append(mag_meas[1])\n",
    "        if mag_meas[2] not in B[2]:\n",
    "            B[2].append(mag_meas[2])\n",
    "        B[3].append(mag_meas[3])\n",
    "        B[4].append(mag_meas[4])\n",
    "        B[5].append(mag_meas[5])\n",
    "\n",
    "    f.close()\n",
    "    \n",
    "    return B\n",
    "\n",
    "def pack_data(orig_arr, dest_size):\n",
    "    dest_arr = []\n",
    "    it       = 0\n",
    "    for d in orig_arr:\n",
    "        if it == 0:\n",
    "            dest_arr.append([d])\n",
    "        else:\n",
    "            dest_arr[-1].append(d)\n",
    "        it += 1\n",
    "        if it == dest_size:\n",
    "            it = 0\n",
    "    return dest_arr"
   ]
  },
  {
   "cell_type": "markdown",
   "metadata": {},
   "source": [
    "# Magnetic Field Estimation"
   ]
  },
  {
   "cell_type": "code",
   "execution_count": 19,
   "metadata": {},
   "outputs": [],
   "source": [
    "def create_interpolators(x, y, z, bx, by, bz):\n",
    "    bx_z = pack_data(bx, len(z))\n",
    "    by_z = pack_data(by, len(z))\n",
    "    bz_z = pack_data(bz, len(z))\n",
    "\n",
    "    bx_y = np.array(pack_data(bx_z, len(y)))\n",
    "    by_y = np.array(pack_data(by_z, len(y)))\n",
    "    bz_y = np.array(pack_data(bz_z, len(y)))\n",
    "\n",
    "    bx_interpolator = RegularGridInterpolator((x, y, z), bx_y, method=\"linear\", bounds_error=True)\n",
    "    by_interpolator = RegularGridInterpolator((x, y, z), by_y, method=\"linear\", bounds_error=True)\n",
    "    bz_interpolator = RegularGridInterpolator((x, y, z), bz_y, method=\"linear\", bounds_error=True)\n",
    "    \n",
    "    return (bx_interpolator, by_interpolator, bz_interpolator)\n",
    "\n",
    "def get_b(l, B):\n",
    "    return [B[0]([l[0], l[1], l[2]])[0], B[1]([l[0], l[1], l[2]])[0], B[2]([l[0], l[1], l[2]])[0]]"
   ]
  },
  {
   "cell_type": "markdown",
   "metadata": {},
   "source": [
    "# Test"
   ]
  },
  {
   "cell_type": "code",
   "execution_count": 21,
   "metadata": {},
   "outputs": [
    {
     "name": "stdout",
     "output_type": "stream",
     "text": [
      "[0.11528114289320006, -0.38206919875000017, -0.1751713338111999]\n",
      "[0.11529412000000001, -0.38209438400000006, -0.175190608]\n"
     ]
    }
   ],
   "source": [
    "d  = unpack_magfield_file(MAGFIELDFILENAME1)\n",
    "B1 = create_interpolators(d[0], d[1], d[2], d[3], d[4], d[5])\n",
    "\n",
    "d  = unpack_magfield_file(MAGFIELDFILENAME2)\n",
    "B2 = create_interpolators(d[0], d[1], d[2], d[3], d[4], d[5])\n",
    "\n",
    "print(get_b((42, 37, 302), B1))\n",
    "print(get_b((42, 37, 302), B2))"
   ]
  }
 ],
 "metadata": {
  "kernelspec": {
   "display_name": "Python 3",
   "language": "python",
   "name": "python3"
  },
  "language_info": {
   "codemirror_mode": {
    "name": "ipython",
    "version": 3
   },
   "file_extension": ".py",
   "mimetype": "text/x-python",
   "name": "python",
   "nbconvert_exporter": "python",
   "pygments_lexer": "ipython3",
   "version": "3.7.3"
  }
 },
 "nbformat": 4,
 "nbformat_minor": 2
}
