{
 "cells": [
  {
   "cell_type": "markdown",
   "metadata": {},
   "source": [
    "# Setup"
   ]
  },
  {
   "cell_type": "code",
   "execution_count": 1,
   "metadata": {},
   "outputs": [],
   "source": [
    "import numpy as np\n",
    "np.set_printoptions(formatter={'float': '{: 0.5f}'.format}, suppress = True)\n",
    "\n",
    "from scipy.interpolate import interpn\n",
    "from scipy.interpolate import RegularGridInterpolator\n",
    "\n",
    "from mpl_toolkits.mplot3d import Axes3D\n",
    "import matplotlib.pyplot as plt\n",
    "%matplotlib notebook\n",
    "\n",
    "MEASFILENAME      = \"measurements.txt\"\n",
    "MAGFIELDFILENAMES = [[\"r25s5\", \"r25s2_5\", \"r25s1_25\"], [\"r50s10\", \"r50s5\", \"r50s2_5\"], [\"r100s20\", \"r100s10\", \"r100s5\"]]\n",
    "\n",
    "for i in range(len(MAGFIELDFILENAMES)):\n",
    "    for j in range(len(MAGFIELDFILENAMES[i])):\n",
    "        MAGFIELDFILENAMES[i][j] = \"magfields/\" + MAGFIELDFILENAMES[i][j] + \".txt\""
   ]
  },
  {
   "cell_type": "code",
   "execution_count": 2,
   "metadata": {},
   "outputs": [],
   "source": [
    "# For some reason this commands needs to be read twice to actually work\n",
    "%matplotlib notebook"
   ]
  },
  {
   "cell_type": "markdown",
   "metadata": {},
   "source": [
    "# File reading"
   ]
  },
  {
   "cell_type": "code",
   "execution_count": 3,
   "metadata": {},
   "outputs": [],
   "source": [
    "# Reads a measurements file and returns an array with the measurement positions\n",
    "def read_meas_file(filename):\n",
    "    Z = []\n",
    "    f = open(filename, \"r\")\n",
    "    for line in f:\n",
    "        meas = line.replace(\"\\n\", \"\").split(' ')\n",
    "        Z.append(float(meas[0]))\n",
    "    f.close()\n",
    "    return Z\n",
    "\n",
    "# Reads a BField file and returns a dictionary containing a set of vectors representing the field\n",
    "def read_magfield_file(filename):\n",
    "    B = {}\n",
    "    f = open(filename, \"r\")\n",
    "\n",
    "    for line in f:\n",
    "        mag_meas = line.replace(\"\\n\", \"\").split(' ')\n",
    "        for i in range(len(mag_meas)):\n",
    "            mag_meas[i] = float(mag_meas[i])\n",
    "        B[(mag_meas[0], mag_meas[1], mag_meas[2])] = (mag_meas[3], mag_meas[4], mag_meas[5])\n",
    "\n",
    "    f.close()\n",
    "    \n",
    "    return B"
   ]
  },
  {
   "cell_type": "markdown",
   "metadata": {},
   "source": [
    "# Magnetic Field Estimation"
   ]
  },
  {
   "cell_type": "code",
   "execution_count": 4,
   "metadata": {},
   "outputs": [],
   "source": [
    "# Gets arrays of x, y, z, bx, by and bz in a specific plane on z0\n",
    "def get_b(B, z0):\n",
    "    b = ([], [], [], [], [], [])\n",
    "    for key in B:\n",
    "        if key[2] == z0:\n",
    "            b[0].append(key[0])    # x\n",
    "            b[1].append(key[1])    # y\n",
    "            b[2].append(key[2])    # z\n",
    "            b[3].append(B[key][0]) # bx\n",
    "            b[4].append(B[key][1]) # by\n",
    "            b[5].append(B[key][2]) # bz\n",
    "    return b\n",
    "\n",
    "# Creates and returns an interpolator for the magnetic field (bx,by,bz) at a given z plane (z0)\n",
    "def get_z0_interpolator(B, z0):\n",
    "    (x, y, z, bx, by, bz) = get_b(B, z0)\n",
    "    \n",
    "    # pre-process x and y\n",
    "    grid_x = list(set(x))\n",
    "    grid_y = list(set(y))\n",
    "    grid_x.sort()\n",
    "    grid_y.sort()\n",
    "    grid_x = np.array(grid_x)\n",
    "    grid_y = np.array(grid_y)\n",
    "    \n",
    "    # pre-process bx, by and bz\n",
    "    grid_bx = []\n",
    "    grid_by = []\n",
    "    grid_bz = []\n",
    "\n",
    "    for i in range(len(grid_x)):\n",
    "        grid_bx.append([])\n",
    "        grid_by.append([])\n",
    "        grid_bz.append([])\n",
    "        for j in range(len(grid_y)):\n",
    "            grid_bx[i].append(bx[i*len(grid_x)+j])\n",
    "            grid_by[i].append(by[i*len(grid_x)+j])\n",
    "            grid_bz[i].append(bx[i*len(grid_x)+j])\n",
    "    grid_bx = np.array(grid_bx)\n",
    "    grid_by = np.array(grid_by)\n",
    "    grid_bz = np.array(grid_bz)\n",
    "    \n",
    "    # obtain and return the interpolator\n",
    "    bx_est = RegularGridInterpolator((grid_x, grid_y), grid_bx, method=\"linear\", bounds_error=True)\n",
    "    by_est = RegularGridInterpolator((grid_x, grid_y), grid_by, method=\"linear\", bounds_error=True)\n",
    "    bz_est = RegularGridInterpolator((grid_x, grid_y), grid_bz, method=\"linear\", bounds_error=True)\n",
    "    \n",
    "    return (bx_est, by_est, bz_est)\n",
    "\n",
    "# Plots a sample of the magnetic field at a cross section z0\n",
    "def plot_b(B, z0):\n",
    "    (x, y, z, bx, by, bz) = get_b(B, z0)\n",
    "\n",
    "    fig = plt.figure()\n",
    "    ax = fig.gca(projection='3d')\n",
    "    ax.quiver(x, y, z, bx, by, bz, length=2, normalize=True)\n",
    "\n",
    "    plt.show()"
   ]
  },
  {
   "cell_type": "markdown",
   "metadata": {},
   "source": [
    "# Tests"
   ]
  },
  {
   "cell_type": "code",
   "execution_count": 5,
   "metadata": {
    "scrolled": true
   },
   "outputs": [],
   "source": [
    "Z = read_meas_file(MEASFILENAME)\n",
    "B = read_magfield_file(MAGFIELDFILENAMES[0][0])"
   ]
  },
  {
   "cell_type": "code",
   "execution_count": 6,
   "metadata": {
    "scrolled": true
   },
   "outputs": [
    {
     "name": "stdout",
     "output_type": "stream",
     "text": [
      "[ 0.00752]\n",
      "[-0.00041]\n",
      "[ 0.00752]\n"
     ]
    }
   ],
   "source": [
    "(x, y, z, bx, by, bz) = get_b(B, Z[0])\n",
    "\n",
    "(bx_est, by_est, bz_est) = get_z0_interpolator(B, Z[0])\n",
    "\n",
    "print(bx_est([-22.5, -22.5]))\n",
    "print(by_est([-22.5, -22.5]))\n",
    "print(bz_est([-22.5, -22.5]))"
   ]
  },
  {
   "cell_type": "code",
   "execution_count": null,
   "metadata": {},
   "outputs": [],
   "source": []
  }
 ],
 "metadata": {
  "kernelspec": {
   "display_name": "Python 3",
   "language": "python",
   "name": "python3"
  },
  "language_info": {
   "codemirror_mode": {
    "name": "ipython",
    "version": 3
   },
   "file_extension": ".py",
   "mimetype": "text/x-python",
   "name": "python",
   "nbconvert_exporter": "python",
   "pygments_lexer": "ipython3",
   "version": "3.7.3"
  }
 },
 "nbformat": 4,
 "nbformat_minor": 2
}
