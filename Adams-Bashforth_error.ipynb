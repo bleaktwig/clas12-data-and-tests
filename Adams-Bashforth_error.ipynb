{
 "cells": [
  {
   "cell_type": "code",
   "execution_count": 22,
   "metadata": {},
   "outputs": [],
   "source": [
    "import math\n",
    "import numpy as np"
   ]
  },
  {
   "cell_type": "code",
   "execution_count": 23,
   "metadata": {},
   "outputs": [],
   "source": [
    "def filter_spaces(word):\n",
    "    if (word == ''):\n",
    "        return False\n",
    "    else:\n",
    "        return True\n",
    "\n",
    "# Read a file containing an array of arbitrary size\n",
    "def file_to_nDarrs(filename):\n",
    "    arr = []\n",
    "    f = open(filename, 'r')\n",
    "    \n",
    "    for line in f:\n",
    "        orig_arr  = line.replace(\"\\n\", \"\").split(\" \")\n",
    "        filt_arr  = list(filter(filter_spaces, orig_arr))\n",
    "        float_arr = []\n",
    "        for x in filt_arr:\n",
    "            float_arr.append(float(x))\n",
    "        if len(float_arr) == 1:\n",
    "            arr.append(float_arr[0])\n",
    "        else:\n",
    "            arr.append(np.array(float_arr))\n",
    "    f.close()\n",
    "    return np.array(arr)"
   ]
  },
  {
   "cell_type": "code",
   "execution_count": 45,
   "metadata": {},
   "outputs": [],
   "source": [
    "MDIR = \"data/KF_tests/abm_vs_rk4/\"\n",
    "rk4_arr = file_to_nDarrs(MDIR + \"rk4\")\n",
    "abm_arr = file_to_nDarrs(MDIR + \"abm\")\n",
    "names_arr = [\"z\", \"x\", \"y\", \"tx\", \"ty\", \"dx/dtx\", \"dx/dty\", \"dx/dq\", \"dy/dtx\", \"dy/dty\", \"dy/dq\", \"dtx/dty\", \"dtx/dq\", \"dty/dtx\", \"dty/dq\", \"q\"]"
   ]
  },
  {
   "cell_type": "code",
   "execution_count": 25,
   "metadata": {},
   "outputs": [],
   "source": [
    "diff_arr = []\n",
    "for i in range(len(rk4_arr)):\n",
    "    diff_arr.append([])\n",
    "    for j in range(len(rk4_arr[i])):\n",
    "        rel_diff = (rk4_arr[i][j] - abm_arr[i][j])/rk4_arr[i][j]\n",
    "        diff_arr[i].append(rel_diff)"
   ]
  },
  {
   "cell_type": "code",
   "execution_count": 47,
   "metadata": {},
   "outputs": [],
   "source": [
    "avg_arr = []\n",
    "for i in diff_arr[0]:\n",
    "    avg_arr.append(0)\n",
    "for i in diff_arr:\n",
    "    for j in range(len(i)):\n",
    "        avg_arr[j] += i[j]\n",
    "for i in range(len(avg_arr)):\n",
    "    avg_arr[i] /= len(diff_arr[0])"
   ]
  },
  {
   "cell_type": "code",
   "execution_count": 46,
   "metadata": {},
   "outputs": [
    {
     "name": "stdout",
     "output_type": "stream",
     "text": [
      "z : 0.000000000000e+00\n",
      "x : 2.691757977750e-07\n",
      "y : 1.447254781781e-05\n",
      "tx : -4.621014178885e-06\n",
      "ty : -1.262527583056e-05\n",
      "dx/dtx : -4.875014073236e+00\n",
      "dx/dty : -3.703542312553e-02\n",
      "dx/dq : -3.418389779253e-01\n",
      "dy/dtx : -5.199882767020e-02\n",
      "dy/dty : -4.875004770740e+00\n",
      "dy/dq : -5.097031589270e-02\n",
      "dtx/dty : -6.968273293858e+00\n",
      "dtx/dq : -6.350168225746e+00\n",
      "dty/dtx : -4.466269824961e+00\n",
      "dty/dq : -5.081866473600e+00\n",
      "q : 7.962010113710e-07\n"
     ]
    }
   ],
   "source": [
    "for i in range(len(names_arr)):\n",
    "    print(names_arr[i] + \" : %16.12e\" % avg_arr[i])\n"
   ]
  }
 ],
 "metadata": {
  "kernelspec": {
   "display_name": "Python 3",
   "language": "python",
   "name": "python3"
  },
  "language_info": {
   "codemirror_mode": {
    "name": "ipython",
    "version": 3
   },
   "file_extension": ".py",
   "mimetype": "text/x-python",
   "name": "python",
   "nbconvert_exporter": "python",
   "pygments_lexer": "ipython3",
   "version": "3.7.3"
  }
 },
 "nbformat": 4,
 "nbformat_minor": 2
}
